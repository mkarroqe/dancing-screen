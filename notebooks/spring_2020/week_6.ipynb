{
  "nbformat": 4,
  "nbformat_minor": 0,
  "metadata": {
    "colab": {
      "name": "week_6.ipynb",
      "provenance": [],
      "collapsed_sections": [
        "-1trLQFth_VT",
        "EWhfT1FoiUfS",
        "yvS-2PAHyc7c",
        "Ov2l3a3JhBUn"
      ]
    },
    "kernelspec": {
      "name": "python3",
      "display_name": "Python 3"
    }
  },
  "cells": [
    {
      "cell_type": "markdown",
      "metadata": {
        "id": "0EmM3MgIgKut",
        "colab_type": "text"
      },
      "source": [
        "# It's Week 6!\n",
        "- time to assemble the dataset\n",
        "- download data onto CoLab w Drive\n",
        "- create my baseline model!"
      ]
    },
    {
      "cell_type": "markdown",
      "metadata": {
        "id": "L3YJwfsrgqMT",
        "colab_type": "text"
      },
      "source": [
        "# Code From Last Week\n",
        "\n"
      ]
    },
    {
      "cell_type": "markdown",
      "metadata": {
        "id": "3PbsRiJCh2iC",
        "colab_type": "text"
      },
      "source": [
        "### 1. Download the Video"
      ]
    },
    {
      "cell_type": "code",
      "metadata": {
        "id": "5ciHDIr0hZiM",
        "colab_type": "code",
        "colab": {
          "base_uri": "https://localhost:8080/",
          "height": 122
        },
        "outputId": "84d74a03-14c4-453a-81e0-6c4f30807994"
      },
      "source": [
        "!pip install youtube_dl"
      ],
      "execution_count": 2,
      "outputs": [
        {
          "output_type": "stream",
          "text": [
            "Collecting youtube_dl\n",
            "\u001b[?25l  Downloading https://files.pythonhosted.org/packages/ac/4d/545cf2f14503763666bb201067d2157c0b45ef4eefdf423805eed11729ea/youtube_dl-2020.3.1-py2.py3-none-any.whl (1.8MB)\n",
            "\u001b[K     |████████████████████████████████| 1.8MB 2.8MB/s \n",
            "\u001b[?25hInstalling collected packages: youtube-dl\n",
            "Successfully installed youtube-dl-2020.3.1\n"
          ],
          "name": "stdout"
        }
      ]
    },
    {
      "cell_type": "code",
      "metadata": {
        "id": "GLw0hE-ShPcY",
        "colab_type": "code",
        "colab": {}
      },
      "source": [
        "# Youtube link download\n",
        "from __future__ import unicode_literals\n",
        "import youtube_dl\n",
        "import os\n",
        "\n",
        "def download_video(url, dest):\n",
        "    ydl_opts = {\n",
        "        'outtmpl': os.path.join(dest, '%(title)s.%(ext)s'),\n",
        "    }\n",
        "    \n",
        "    with youtube_dl.YoutubeDL(ydl_opts) as ydl:\n",
        "        ydl.download([url])"
      ],
      "execution_count": 0,
      "outputs": []
    },
    {
      "cell_type": "markdown",
      "metadata": {
        "id": "-1trLQFth_VT",
        "colab_type": "text"
      },
      "source": [
        "### 2. Isolate the Audio"
      ]
    },
    {
      "cell_type": "code",
      "metadata": {
        "id": "AsWYRp9Vhqa_",
        "colab_type": "code",
        "colab": {
          "base_uri": "https://localhost:8080/",
          "height": 122
        },
        "outputId": "fe294af9-e554-4112-b351-d0a42b969220"
      },
      "source": [
        "import moviepy.editor as mp\n",
        "\n",
        "def download_audio(url, dest, subclip_stat=False, clip_start=0, clip_end=0):\n",
        "    if subclip_stat:\n",
        "        clip = mp.VideoFileClip(url).subclip(clip_start, clip_end)\n",
        "    else:\n",
        "        clip = mp.VideoFileClip(url)\n",
        "    clip.audio.write_audiofile(dest)"
      ],
      "execution_count": 4,
      "outputs": [
        {
          "output_type": "stream",
          "text": [
            "Imageio: 'ffmpeg-linux64-v3.3.1' was not found on your computer; downloading it now.\n",
            "Try 1. Download from https://github.com/imageio/imageio-binaries/raw/master/ffmpeg/ffmpeg-linux64-v3.3.1 (43.8 MB)\n",
            "Downloading: 8192/45929032 bytes (0.0%)\b\b\b\b\b\b\b\b\b\b\b\b\b\b\b\b\b\b\b\b\b\b\b\b\b\b3170304/45929032 bytes (6.9%)\b\b\b\b\b\b\b\b\b\b\b\b\b\b\b\b\b\b\b\b\b\b\b\b\b\b\b\b\b7233536/45929032 bytes (15.7%)\b\b\b\b\b\b\b\b\b\b\b\b\b\b\b\b\b\b\b\b\b\b\b\b\b\b\b\b\b\b11403264/45929032 bytes (24.8%)\b\b\b\b\b\b\b\b\b\b\b\b\b\b\b\b\b\b\b\b\b\b\b\b\b\b\b\b\b\b\b15572992/45929032 bytes (33.9%)\b\b\b\b\b\b\b\b\b\b\b\b\b\b\b\b\b\b\b\b\b\b\b\b\b\b\b\b\b\b\b19668992/45929032 bytes (42.8%)\b\b\b\b\b\b\b\b\b\b\b\b\b\b\b\b\b\b\b\b\b\b\b\b\b\b\b\b\b\b\b23781376/45929032 bytes (51.8%)\b\b\b\b\b\b\b\b\b\b\b\b\b\b\b\b\b\b\b\b\b\b\b\b\b\b\b\b\b\b\b27967488/45929032 bytes (60.9%)\b\b\b\b\b\b\b\b\b\b\b\b\b\b\b\b\b\b\b\b\b\b\b\b\b\b\b\b\b\b\b32169984/45929032 bytes (70.0%)\b\b\b\b\b\b\b\b\b\b\b\b\b\b\b\b\b\b\b\b\b\b\b\b\b\b\b\b\b\b\b36028416/45929032 bytes (78.4%)\b\b\b\b\b\b\b\b\b\b\b\b\b\b\b\b\b\b\b\b\b\b\b\b\b\b\b\b\b\b\b40222720/45929032 bytes (87.6%)\b\b\b\b\b\b\b\b\b\b\b\b\b\b\b\b\b\b\b\b\b\b\b\b\b\b\b\b\b\b\b44253184/45929032 bytes (96.4%)\b\b\b\b\b\b\b\b\b\b\b\b\b\b\b\b\b\b\b\b\b\b\b\b\b\b\b\b\b\b\b45929032/45929032 bytes (100.0%)\n",
            "  Done\n",
            "File saved as /root/.imageio/ffmpeg/ffmpeg-linux64-v3.3.1.\n"
          ],
          "name": "stdout"
        }
      ]
    },
    {
      "cell_type": "markdown",
      "metadata": {
        "id": "HS0Zj3oviK55",
        "colab_type": "text"
      },
      "source": [
        "### 3. Parsing Dance Clips"
      ]
    },
    {
      "cell_type": "code",
      "metadata": {
        "id": "mreDP2kXiNEN",
        "colab_type": "code",
        "colab": {}
      },
      "source": [
        "import cv2\n",
        "from PIL import Image\n",
        "\n",
        "def get_frames(source_url, dest, frames_skipped):\n",
        "    vid_len_sec = (51 * 60) + 52\n",
        "    total_frames = vid_len_sec * frames_skipped\n",
        "\n",
        "    cap = cv2.VideoCapture(source_url)\n",
        "    count = 0\n",
        "\n",
        "    while cap.isOpened():\n",
        "        ret, frame = cap.read()\n",
        "\n",
        "        if not ret:\n",
        "          break\n",
        "        if count > 150:\n",
        "          break # for testing\n",
        "\n",
        "        if count % 1000 == 0:\n",
        "          print(str(count) + \"/\" + str(total_frames), \"extracted\")\n",
        "\n",
        "        frame = transform_image(frame)\n",
        "        cv2.imwrite('{:d}.jpg'.format(count), frame)\n",
        "        count += frames_skipped\n",
        "        cap.set(1, count)\n",
        "\n",
        "    cv2.destroyAllWindows()\n",
        "    print(\"all\", total_frames, \"frames extracted!\")"
      ],
      "execution_count": 0,
      "outputs": []
    },
    {
      "cell_type": "markdown",
      "metadata": {
        "id": "EWhfT1FoiUfS",
        "colab_type": "text"
      },
      "source": [
        "### 4. Audio Timestamp Match-Up"
      ]
    },
    {
      "cell_type": "code",
      "metadata": {
        "id": "Z2TSptoviR_s",
        "colab_type": "code",
        "colab": {}
      },
      "source": [
        "# tbd?"
      ],
      "execution_count": 0,
      "outputs": []
    },
    {
      "cell_type": "markdown",
      "metadata": {
        "id": "yvS-2PAHyc7c",
        "colab_type": "text"
      },
      "source": [
        "### 5. Conversion to Binary Image"
      ]
    },
    {
      "cell_type": "code",
      "metadata": {
        "id": "jifp2LAvyhCc",
        "colab_type": "code",
        "colab": {}
      },
      "source": [
        "def change_contrast(img, level=100):\n",
        "    factor = (259 * (level + 255)) / (255 * (259 - level))\n",
        "    \n",
        "    def contrast(c):\n",
        "        return 128 + factor * (c - 128)\n",
        "    \n",
        "    img = img.point(contrast)\n",
        "    return img"
      ],
      "execution_count": 0,
      "outputs": []
    },
    {
      "cell_type": "code",
      "metadata": {
        "id": "CLNZH_KOysUm",
        "colab_type": "code",
        "colab": {}
      },
      "source": [
        "BLUE = (0, 0, 255)\n",
        "CYAN = (0, 255, 255)\n",
        "WHITE = (255, 255, 255)\n",
        "ORANGE = (255, 99, 71)\n",
        "\n",
        "def remove_colors(img, rgb_remove, rgb_replace):\n",
        "    width, height = img.size\n",
        "    \n",
        "    for x in range(width):\n",
        "        for y in range(height):\n",
        "            current_color = img.getpixel((x, y))\n",
        "            \n",
        "            if current_color in rgb_remove:\n",
        "                img.putpixel((x, y), rgb_replace)\n",
        "#             else:\n",
        "#                 img.putpixel((x, y), ORANGE)\n",
        "    \n",
        "    return img"
      ],
      "execution_count": 0,
      "outputs": []
    },
    {
      "cell_type": "code",
      "metadata": {
        "id": "y4PANGg7ywan",
        "colab_type": "code",
        "colab": {}
      },
      "source": [
        "def remove_blues(img, rgb_replace):\n",
        "    width, height = img.size\n",
        "    print(width, height)\n",
        "    \n",
        "    for x in range(width):\n",
        "        for y in range(height):\n",
        "            current_color = img.getpixel((x, y))\n",
        "            \n",
        "            if current_color[2] > 200:\n",
        "                img.putpixel((x, y), rgb_replace)\n",
        "            else:\n",
        "                img.putpixel((x, y), ORANGE) \n",
        "    \n",
        "    return img"
      ],
      "execution_count": 0,
      "outputs": []
    },
    {
      "cell_type": "markdown",
      "metadata": {
        "id": "Ov2l3a3JhBUn",
        "colab_type": "text"
      },
      "source": [
        "### 6. Crop"
      ]
    },
    {
      "cell_type": "code",
      "metadata": {
        "id": "Onm_t6gJg_l4",
        "colab_type": "code",
        "colab": {}
      },
      "source": [
        "def my_crop(img):\n",
        "    width, height = img.size\n",
        "    \n",
        "    left = width / 4\n",
        "    upper = 0\n",
        "    right = width/1.25\n",
        "    lower = height - 30\n",
        "    \n",
        "    img = img.crop((left, 100, right, lower))\n",
        "    \n",
        "    return img"
      ],
      "execution_count": 0,
      "outputs": []
    },
    {
      "cell_type": "markdown",
      "metadata": {
        "id": "aigCYflZhI8D",
        "colab_type": "text"
      },
      "source": [
        "## Final Image Transformation:"
      ]
    },
    {
      "cell_type": "code",
      "metadata": {
        "id": "7cRDjnCJhNS2",
        "colab_type": "code",
        "colab": {}
      },
      "source": [
        "def transform_image(orig_img):\n",
        "  mod = Image.open(orig_img)\n",
        "  mod = change_contrast(mod, 250)\n",
        "  mod = remove_colors(mod, BLUES, WHITE)\n",
        "  mod = remove_blues(mod, WHITE)\n",
        "  mod = my_crop(mod)\n",
        "  return mod"
      ],
      "execution_count": 0,
      "outputs": []
    },
    {
      "cell_type": "markdown",
      "metadata": {
        "id": "bTwNnQQa0gBi",
        "colab_type": "text"
      },
      "source": [
        "# Downloading the Data to Drive!"
      ]
    },
    {
      "cell_type": "code",
      "metadata": {
        "id": "Cp9oT60n0m21",
        "colab_type": "code",
        "colab": {
          "base_uri": "https://localhost:8080/",
          "height": 122
        },
        "outputId": "b5d9d0de-afd9-48ae-98e9-489e702f9abb"
      },
      "source": [
        "from google.colab import drive\n",
        "\n",
        "drive.mount('/content/gdrive')\n",
        "ROOT = \"gdrive/My Drive/Colab Notebooks/spring_2020/data/\""
      ],
      "execution_count": 10,
      "outputs": [
        {
          "output_type": "stream",
          "text": [
            "Go to this URL in a browser: https://accounts.google.com/o/oauth2/auth?client_id=947318989803-6bn6qk8qdgf4n4g3pfee6491hc0brc4i.apps.googleusercontent.com&redirect_uri=urn%3aietf%3awg%3aoauth%3a2.0%3aoob&response_type=code&scope=email%20https%3a%2f%2fwww.googleapis.com%2fauth%2fdocs.test%20https%3a%2f%2fwww.googleapis.com%2fauth%2fdrive%20https%3a%2f%2fwww.googleapis.com%2fauth%2fdrive.photos.readonly%20https%3a%2f%2fwww.googleapis.com%2fauth%2fpeopleapi.readonly\n",
            "\n",
            "Enter your authorization code:\n",
            "··········\n",
            "Mounted at /content/gdrive\n"
          ],
          "name": "stdout"
        }
      ]
    },
    {
      "cell_type": "code",
      "metadata": {
        "id": "eJrNTbl405oO",
        "colab_type": "code",
        "colab": {
          "base_uri": "https://localhost:8080/",
          "height": 34
        },
        "outputId": "b87bf9aa-107c-463d-f9fe-6606db160278"
      },
      "source": [
        "VID_URL = \"https://youtu.be/R7qdgPkPsuQ\"\n",
        "vid_dest = ROOT\n",
        "\n",
        "root_contents = os.listdir(ROOT)\n",
        "print(\"root directory is contains\", len(root_contents), \"items:\", root_contents)\n",
        "\n",
        "if len(root_contents) == 2:\n",
        "  download_video(VID_URL, vid_dest)"
      ],
      "execution_count": 12,
      "outputs": [
        {
          "output_type": "stream",
          "text": [
            "root directory is contains 4 items: ['frames', 'audio', 'Fortnite All Dances Season 1-11.mp4', 'fortnite_audio.wav']\n"
          ],
          "name": "stdout"
        }
      ]
    },
    {
      "cell_type": "code",
      "metadata": {
        "id": "R_O_tkYn5TDa",
        "colab_type": "code",
        "colab": {
          "base_uri": "https://localhost:8080/",
          "height": 34
        },
        "outputId": "c84a8631-222e-4011-c093-f485a3e5852b"
      },
      "source": [
        "# Check this value again after the video is done processing\n",
        "print(\"root directory is contains\", len(root_contents), \"items:\", root_contents)"
      ],
      "execution_count": 21,
      "outputs": [
        {
          "output_type": "stream",
          "text": [
            "root directory is contains 2 items: ['frames', 'audio']\n"
          ],
          "name": "stdout"
        }
      ]
    },
    {
      "cell_type": "code",
      "metadata": {
        "id": "67Umhogz6EIF",
        "colab_type": "code",
        "colab": {}
      },
      "source": [
        "vid_url = vid_dest + \"Fortnite All Dances Season 1-11.mp4\"\n",
        "audio_dest = ROOT + \"fortnite_audio.wav\"\n",
        "# download_audio(vid_url, audio_dest)"
      ],
      "execution_count": 0,
      "outputs": []
    },
    {
      "cell_type": "code",
      "metadata": {
        "id": "C9IuEhYq6x2s",
        "colab_type": "code",
        "colab": {
          "base_uri": "https://localhost:8080/",
          "height": 443
        },
        "outputId": "6071f7ac-3c53-4caf-ec6e-9bfce1edeb35"
      },
      "source": [
        "import cv2\n",
        "\n",
        "frame_dest = ROOT + \"frames/test/\"\n",
        "# video runs at 60 fps --> 60 frames skipped == 1 fps pulled\n",
        "frames_skipped = 60\n",
        "\n",
        "get_frames(vid_url, frame_dest, frames_skipped)"
      ],
      "execution_count": 24,
      "outputs": [
        {
          "output_type": "stream",
          "text": [
            "0/186720 extracted\n"
          ],
          "name": "stdout"
        },
        {
          "output_type": "error",
          "ename": "AttributeError",
          "evalue": "ignored",
          "traceback": [
            "\u001b[0;31m---------------------------------------------------------------------------\u001b[0m",
            "\u001b[0;31mAttributeError\u001b[0m                            Traceback (most recent call last)",
            "\u001b[0;32m/usr/local/lib/python3.6/dist-packages/PIL/Image.py\u001b[0m in \u001b[0;36mopen\u001b[0;34m(fp, mode)\u001b[0m\n\u001b[1;32m   2769\u001b[0m     \u001b[0;32mtry\u001b[0m\u001b[0;34m:\u001b[0m\u001b[0;34m\u001b[0m\u001b[0;34m\u001b[0m\u001b[0m\n\u001b[0;32m-> 2770\u001b[0;31m         \u001b[0mfp\u001b[0m\u001b[0;34m.\u001b[0m\u001b[0mseek\u001b[0m\u001b[0;34m(\u001b[0m\u001b[0;36m0\u001b[0m\u001b[0;34m)\u001b[0m\u001b[0;34m\u001b[0m\u001b[0;34m\u001b[0m\u001b[0m\n\u001b[0m\u001b[1;32m   2771\u001b[0m     \u001b[0;32mexcept\u001b[0m \u001b[0;34m(\u001b[0m\u001b[0mAttributeError\u001b[0m\u001b[0;34m,\u001b[0m \u001b[0mio\u001b[0m\u001b[0;34m.\u001b[0m\u001b[0mUnsupportedOperation\u001b[0m\u001b[0;34m)\u001b[0m\u001b[0;34m:\u001b[0m\u001b[0;34m\u001b[0m\u001b[0;34m\u001b[0m\u001b[0m\n",
            "\u001b[0;31mAttributeError\u001b[0m: 'numpy.ndarray' object has no attribute 'seek'",
            "\nDuring handling of the above exception, another exception occurred:\n",
            "\u001b[0;31mAttributeError\u001b[0m                            Traceback (most recent call last)",
            "\u001b[0;32m<ipython-input-24-095035737ac1>\u001b[0m in \u001b[0;36m<module>\u001b[0;34m()\u001b[0m\n\u001b[1;32m      5\u001b[0m \u001b[0mframes_skipped\u001b[0m \u001b[0;34m=\u001b[0m \u001b[0;36m60\u001b[0m\u001b[0;34m\u001b[0m\u001b[0;34m\u001b[0m\u001b[0m\n\u001b[1;32m      6\u001b[0m \u001b[0;34m\u001b[0m\u001b[0m\n\u001b[0;32m----> 7\u001b[0;31m \u001b[0mget_frames\u001b[0m\u001b[0;34m(\u001b[0m\u001b[0mvid_url\u001b[0m\u001b[0;34m,\u001b[0m \u001b[0mframe_dest\u001b[0m\u001b[0;34m,\u001b[0m \u001b[0mframes_skipped\u001b[0m\u001b[0;34m)\u001b[0m\u001b[0;34m\u001b[0m\u001b[0;34m\u001b[0m\u001b[0m\n\u001b[0m",
            "\u001b[0;32m<ipython-input-21-650dfb013e99>\u001b[0m in \u001b[0;36mget_frames\u001b[0;34m(source_url, dest, frames_skipped)\u001b[0m\n\u001b[1;32m     20\u001b[0m           \u001b[0mprint\u001b[0m\u001b[0;34m(\u001b[0m\u001b[0mstr\u001b[0m\u001b[0;34m(\u001b[0m\u001b[0mcount\u001b[0m\u001b[0;34m)\u001b[0m \u001b[0;34m+\u001b[0m \u001b[0;34m\"/\"\u001b[0m \u001b[0;34m+\u001b[0m \u001b[0mstr\u001b[0m\u001b[0;34m(\u001b[0m\u001b[0mtotal_frames\u001b[0m\u001b[0;34m)\u001b[0m\u001b[0;34m,\u001b[0m \u001b[0;34m\"extracted\"\u001b[0m\u001b[0;34m)\u001b[0m\u001b[0;34m\u001b[0m\u001b[0;34m\u001b[0m\u001b[0m\n\u001b[1;32m     21\u001b[0m \u001b[0;34m\u001b[0m\u001b[0m\n\u001b[0;32m---> 22\u001b[0;31m         \u001b[0mframe\u001b[0m \u001b[0;34m=\u001b[0m \u001b[0mtransform_image\u001b[0m\u001b[0;34m(\u001b[0m\u001b[0mframe\u001b[0m\u001b[0;34m)\u001b[0m\u001b[0;34m\u001b[0m\u001b[0;34m\u001b[0m\u001b[0m\n\u001b[0m\u001b[1;32m     23\u001b[0m         \u001b[0mcv2\u001b[0m\u001b[0;34m.\u001b[0m\u001b[0mimwrite\u001b[0m\u001b[0;34m(\u001b[0m\u001b[0;34m'{:d}.jpg'\u001b[0m\u001b[0;34m.\u001b[0m\u001b[0mformat\u001b[0m\u001b[0;34m(\u001b[0m\u001b[0mcount\u001b[0m\u001b[0;34m)\u001b[0m\u001b[0;34m,\u001b[0m \u001b[0mframe\u001b[0m\u001b[0;34m)\u001b[0m\u001b[0;34m\u001b[0m\u001b[0;34m\u001b[0m\u001b[0m\n\u001b[1;32m     24\u001b[0m         \u001b[0mcount\u001b[0m \u001b[0;34m+=\u001b[0m \u001b[0mframes_skipped\u001b[0m\u001b[0;34m\u001b[0m\u001b[0;34m\u001b[0m\u001b[0m\n",
            "\u001b[0;32m<ipython-input-22-c21a6ff34923>\u001b[0m in \u001b[0;36mtransform_image\u001b[0;34m(orig_img)\u001b[0m\n\u001b[1;32m      1\u001b[0m \u001b[0;32mdef\u001b[0m \u001b[0mtransform_image\u001b[0m\u001b[0;34m(\u001b[0m\u001b[0morig_img\u001b[0m\u001b[0;34m)\u001b[0m\u001b[0;34m:\u001b[0m\u001b[0;34m\u001b[0m\u001b[0;34m\u001b[0m\u001b[0m\n\u001b[0;32m----> 2\u001b[0;31m   \u001b[0mmod\u001b[0m \u001b[0;34m=\u001b[0m \u001b[0mImage\u001b[0m\u001b[0;34m.\u001b[0m\u001b[0mopen\u001b[0m\u001b[0;34m(\u001b[0m\u001b[0morig_img\u001b[0m\u001b[0;34m)\u001b[0m\u001b[0;34m\u001b[0m\u001b[0;34m\u001b[0m\u001b[0m\n\u001b[0m\u001b[1;32m      3\u001b[0m   \u001b[0mmod\u001b[0m \u001b[0;34m=\u001b[0m \u001b[0mchange_contrast\u001b[0m\u001b[0;34m(\u001b[0m\u001b[0mmod\u001b[0m\u001b[0;34m,\u001b[0m \u001b[0;36m250\u001b[0m\u001b[0;34m)\u001b[0m\u001b[0;34m\u001b[0m\u001b[0;34m\u001b[0m\u001b[0m\n\u001b[1;32m      4\u001b[0m   \u001b[0mmod\u001b[0m \u001b[0;34m=\u001b[0m \u001b[0mremove_colors\u001b[0m\u001b[0;34m(\u001b[0m\u001b[0mmod\u001b[0m\u001b[0;34m,\u001b[0m \u001b[0mBLUES\u001b[0m\u001b[0;34m,\u001b[0m \u001b[0mWHITE\u001b[0m\u001b[0;34m)\u001b[0m\u001b[0;34m\u001b[0m\u001b[0;34m\u001b[0m\u001b[0m\n\u001b[1;32m      5\u001b[0m   \u001b[0mmod\u001b[0m \u001b[0;34m=\u001b[0m \u001b[0mremove_blues\u001b[0m\u001b[0;34m(\u001b[0m\u001b[0mmod\u001b[0m\u001b[0;34m,\u001b[0m \u001b[0mWHITE\u001b[0m\u001b[0;34m)\u001b[0m\u001b[0;34m\u001b[0m\u001b[0;34m\u001b[0m\u001b[0m\n",
            "\u001b[0;32m/usr/local/lib/python3.6/dist-packages/PIL/Image.py\u001b[0m in \u001b[0;36mopen\u001b[0;34m(fp, mode)\u001b[0m\n\u001b[1;32m   2770\u001b[0m         \u001b[0mfp\u001b[0m\u001b[0;34m.\u001b[0m\u001b[0mseek\u001b[0m\u001b[0;34m(\u001b[0m\u001b[0;36m0\u001b[0m\u001b[0;34m)\u001b[0m\u001b[0;34m\u001b[0m\u001b[0;34m\u001b[0m\u001b[0m\n\u001b[1;32m   2771\u001b[0m     \u001b[0;32mexcept\u001b[0m \u001b[0;34m(\u001b[0m\u001b[0mAttributeError\u001b[0m\u001b[0;34m,\u001b[0m \u001b[0mio\u001b[0m\u001b[0;34m.\u001b[0m\u001b[0mUnsupportedOperation\u001b[0m\u001b[0;34m)\u001b[0m\u001b[0;34m:\u001b[0m\u001b[0;34m\u001b[0m\u001b[0;34m\u001b[0m\u001b[0m\n\u001b[0;32m-> 2772\u001b[0;31m         \u001b[0mfp\u001b[0m \u001b[0;34m=\u001b[0m \u001b[0mio\u001b[0m\u001b[0;34m.\u001b[0m\u001b[0mBytesIO\u001b[0m\u001b[0;34m(\u001b[0m\u001b[0mfp\u001b[0m\u001b[0;34m.\u001b[0m\u001b[0mread\u001b[0m\u001b[0;34m(\u001b[0m\u001b[0;34m)\u001b[0m\u001b[0;34m)\u001b[0m\u001b[0;34m\u001b[0m\u001b[0;34m\u001b[0m\u001b[0m\n\u001b[0m\u001b[1;32m   2773\u001b[0m         \u001b[0mexclusive_fp\u001b[0m \u001b[0;34m=\u001b[0m \u001b[0;32mTrue\u001b[0m\u001b[0;34m\u001b[0m\u001b[0;34m\u001b[0m\u001b[0m\n\u001b[1;32m   2774\u001b[0m \u001b[0;34m\u001b[0m\u001b[0m\n",
            "\u001b[0;31mAttributeError\u001b[0m: 'numpy.ndarray' object has no attribute 'read'"
          ]
        }
      ]
    },
    {
      "cell_type": "code",
      "metadata": {
        "id": "KEjESWPGCMzO",
        "colab_type": "code",
        "colab": {}
      },
      "source": [
        ""
      ],
      "execution_count": 0,
      "outputs": []
    }
  ]
}