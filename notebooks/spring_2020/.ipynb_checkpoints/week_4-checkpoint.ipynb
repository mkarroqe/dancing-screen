{
 "cells": [
  {
   "cell_type": "markdown",
   "metadata": {},
   "source": [
    "# Week 4\n",
    "Welcome to Week 4! Here's what Trello says we have to do:\n",
    "1. Pick 3 genres\n",
    "2. Python code with Librosa that creates spectrograms given an audio file\n",
    "3. Start compiling database of audio files, genres, spectrograms\n",
    "4. Include same number of files per genre-- 1000?"
   ]
  },
  {
   "cell_type": "markdown",
   "metadata": {},
   "source": [
    "### *Pick 3 genres*\n",
    "Since the goal of this project is to teach a stick figure to dance, the selected genres should complement that.\n",
    "\n",
    "Some ideas:\n",
    "- average bpm above 100 ???\n",
    "- actually this is thinking too small\n"
   ]
  },
  {
   "cell_type": "code",
   "execution_count": null,
   "metadata": {
    "collapsed": true
   },
   "outputs": [],
   "source": []
  }
 ],
 "metadata": {
  "anaconda-cloud": {},
  "kernelspec": {
   "display_name": "Python [Root]",
   "language": "python",
   "name": "Python [Root]"
  },
  "language_info": {
   "codemirror_mode": {
    "name": "ipython",
    "version": 3
   },
   "file_extension": ".py",
   "mimetype": "text/x-python",
   "name": "python",
   "nbconvert_exporter": "python",
   "pygments_lexer": "ipython3",
   "version": "3.5.2"
  }
 },
 "nbformat": 4,
 "nbformat_minor": 0
}
