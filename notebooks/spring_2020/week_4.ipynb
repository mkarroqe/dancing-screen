{
 "cells": [
  {
   "cell_type": "markdown",
   "metadata": {},
   "source": [
    "# Week 4\n",
    "Welcome to Week 4! Here's what Trello says we have to do:\n",
    "1. Pick 3 genres\n",
    "2. Python code with Librosa that creates spectrograms given an audio file\n",
    "3. Start compiling database of audio files, genres, spectrograms\n",
    "4. Include same number of files per genre-- 1000?"
   ]
  },
  {
   "cell_type": "markdown",
   "metadata": {},
   "source": [
    "### *Pick 3 genres*\n",
    "Since the goal of this project is to teach a stick figure to dance, the selected genres should complement that.\n",
    "\n",
    "Some ideas:\n",
    "- average bpm above 100 ???\n",
    "- actually this is thinking too small\n",
    "\n",
    "Some dancing inspo: https://www.youtube.com/watch?v=WX2V57ENiDs\n",
    "- pop songs\n",
    "  - 80s could be fun"
   ]
  },
  {
   "cell_type": "markdown",
   "metadata": {},
   "source": [
    "# Actually, this approach feels silly now\n",
    "- If i want to make things dance, why have my data be dancing videos?\n",
    "- `\"Stick Figure Dancing\"`\n",
    "    - this yielded too many short videos (30 sec - 2 min)\n",
    "    - also lots of people in glowstick costumes\n",
    "    \n",
    "- `\"Dancing silouhette\"`\n",
    "    - Playlist 1\n",
    "        - Found [this playlist](https://www.youtube.com/watch?v=so8DwRiwcx4&list=PLqshxsczfZydRYNDKyLGXs0MFNTq7nxzh&index=2) of black silouhettes behind a green screen\n",
    "        - would be easy to use/\"santize\" this data by removing background\n",
    "        - moves are a little saucy though\n",
    "        - **no music\n",
    "            - how can i incorporate music?**\n",
    "        - about 10-15mins of video here\n",
    "    \n",
    "    - [\"Shadow Dancers\"](https://www.youtube.com/watch?v=VHSt5EKmnJI) Video\n",
    "        - 5 hours long\n",
    "        - little harder to santitize data because backgrounds change but shouldn't be too bad since the silouhettes are all black\n",
    "        - no music again\n",
    "        \n",
    "    - [This version](https://www.youtube.com/watch?v=NdSqAAT28v0) has Techno/House Music\n",
    "        - 1:19:59 long\n",
    "        \n",
    "    - [Another 2 minute greenscreen silhouette](https://www.youtube.com/watch?v=ALCE0Fhg2Jc)\n",
    "    \n",
    "### Using TikTok data...?\n",
    "- A bunch of short clips of the same thing (15sec)\n",
    "- Audio included\n",
    "- Data processing\n",
    "    - more complicated backgrounds\n",
    "    \n",
    "### Fortnite Dances?\n",
    "Oh lord\n",
    "- lots of compilation videos on youtube like [this one](https://www.youtube.com/watch?v=R7qdgPkPsuQ) (this one is 51:52)\n",
    "- can filter out background p easily and turn into silhouettes?\n",
    "- but avatars have weirds shapes (like a taco for a head @1:05\n",
    "- i think this might be the best bet honestly my baby cousins will be thrilled\n",
    "- is the fact that the background music keeps changing a problem?"
   ]
  },
  {
   "cell_type": "code",
   "execution_count": null,
   "metadata": {
    "collapsed": true
   },
   "outputs": [],
   "source": []
  }
 ],
 "metadata": {
  "anaconda-cloud": {},
  "kernelspec": {
   "display_name": "Python [Root]",
   "language": "python",
   "name": "Python [Root]"
  },
  "language_info": {
   "codemirror_mode": {
    "name": "ipython",
    "version": 3
   },
   "file_extension": ".py",
   "mimetype": "text/x-python",
   "name": "python",
   "nbconvert_exporter": "python",
   "pygments_lexer": "ipython3",
   "version": "3.5.2"
  }
 },
 "nbformat": 4,
 "nbformat_minor": 0
}
