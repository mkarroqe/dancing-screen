{
 "cells": [
  {
   "cell_type": "markdown",
   "metadata": {},
   "source": [
    "# Making Sense of Data\n",
    "\n",
    "Dear Diary, <br/>\n",
    "It is Saturday, September 21. I am sitting in the Bean🥫.<br /><br/>\n",
    "The purpose of this notebook is to make sense of the data contained in the [UCI FMA Music Analysis Dataset](https://archive.ics.uci.edu/ml/datasets/FMA:+A+Dataset+For+Music+Analysis): **genres, and tracks**. <br/>For genres, we are interested in exploring the **colors** associated with each sub-genre and the **hierarchy structure** organizing the 164 genres. For tracks, we are interested in mapping tracks to genres to find the genres with the most songs to use for our initial model. We also want to explore associated track metadata, such as **year**.\n",
    "\n",
    "<hr />"
   ]
  },
  {
   "cell_type": "markdown",
   "metadata": {
    "collapsed": true
   },
   "source": [
    "# Genres\n",
    "The `raw_genres.csv` file was small enough that it was easier to analyze the data in Google Sheets. Sorry to betray the CS community by using layman's tools.\n",
    "\n",
    "The file had 164 rows with the following columns:\n",
    "\n",
    "   | genre_id | genre_color | genre_handle | genre_parent_id | genre_title |\n",
    "   | :-: | :-: | :-: | :-: | :-: |\n",
    "   | 46\t| #CC3300 | Latin_America| 2 | Latin America |\n",
    "   | ... | ... | ... | ... | ... |\n",
    "\n",
    "### Comments:\n",
    "- Parent genres did not have `parent_id`s.\n",
    "- The rows were in a haphazard order; they were not sorted numerically by `genre_id`/`genre_parent_id` nor alphabetically by `genre_handle`/`genre_title`.\n",
    "- I did not consider `genre_color`, but if it was sorted by color, that's not useful to me.\n",
    "\n",
    "### In Google Sheets, I did the following:\n",
    "1. Sorted rows by `parent_id` to get a sense of which genres had the most breadth (the most sub-genres).\n",
    "2. This moved all the parent rows to the bottom, and I pulled them out to the side.\n",
    "3. I created two new columns for the parent sub-table, `num sub_genres`.\n",
    "4. I counted all instances of each sub genre and added it to the parent table.\n",
    "\n",
    "<hr />\n",
    "\n",
    "### Results:\n",
    "\n",
    "|  Top Genres (sub-genres) | Graph |\n",
    "| :- | :-: |\n",
    "| <ol><li>International (15)</li><li>Rock (15)</li><li>Electronic (14)</li><li>Experimental (14)</li><li>Spoken (8) </li></ol> | <img src=\"images/sub_genre_pie_uci_fma.png\" /> |\n",
    "\n",
    "<!--\n",
    "| genre_id | genre_color | genre_handle | genre_parent_id | genre_title | num sub-genres |\n",
    "| :-: | :-: | :-: | :-: | :-: |\t:-: |\n",
    "| 2\t|#CC3300|\tInternational |\t|\tInternational\t|15|\n",
    "|3|\t#000099\t|Blues\t|\t|Blues\t|1|\n",
    "|4|\t#990099\t|Jazz\t|\t|Jazz\t|6|\n",
    "|5|\t#8A8A65\t|Classical|\t|\tClassical|\t7|\n",
    "|8|\t#665666\t|Old-Time__Historic\t|\t|Old-Time / Historic|\t0|\n",
    "|9|\t#663366\t|Country\t|\t|Country\t|4|\n",
    "|10| #009900|\tPop\t|\t|Pop\t|2|\n",
    "|12\t|#840000|\tRock\t| |\tRock|\t15|\n",
    "|14\t|#330033|\tSoul-RB\t|\t| Soul-RnB|\t2|\n",
    "|15\t|#FF6600|\tElectronic|\t|\tElectronic\t|14|\n",
    "|17\t|#5E6D3F|\tFolk\t|\t|Folk|\t5|\n",
    "|20\t|#006699|\tSpoken\t| |\tSpoken|\t8|\n",
    "|21\t|#CC0000|\tHip-Hop\t| \t|Hip-Hop|\t7|\n",
    "|38\t|#dddd00|\tExperimental|\t|\tExperimental|\t14|\n",
    "|1235|\t#000000|\tInstrumental|\t|\tInstrumental\t|3|\n",
    "-->    "
   ]
  },
  {
   "cell_type": "markdown",
   "metadata": {},
   "source": [
    "## Tracks\n",
    "The file containing track data, is too big to assess in Google Sheets."
   ]
  },
  {
   "cell_type": "code",
   "execution_count": null,
   "metadata": {
    "collapsed": true
   },
   "outputs": [],
   "source": []
  }
 ],
 "metadata": {
  "kernelspec": {
   "display_name": "Python [Root]",
   "language": "python",
   "name": "Python [Root]"
  },
  "language_info": {
   "codemirror_mode": {
    "name": "ipython",
    "version": 3
   },
   "file_extension": ".py",
   "mimetype": "text/x-python",
   "name": "python",
   "nbconvert_exporter": "python",
   "pygments_lexer": "ipython3",
   "version": "3.5.2"
  }
 },
 "nbformat": 4,
 "nbformat_minor": 0
}
