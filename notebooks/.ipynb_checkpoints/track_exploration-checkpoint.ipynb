{
 "cells": [
  {
   "cell_type": "markdown",
   "metadata": {},
   "source": [
    "# Making Sense of Data: Genres + Tracks\n",
    "Dear Diary,\n",
    "It is October now. We've had some cold rain.\n",
    "\n",
    "The purpose of this notebook is to start reading some tracks (now that the UCI dataset is partially back).\n"
   ]
  },
  {
   "cell_type": "code",
   "execution_count": 3,
   "metadata": {
    "collapsed": true
   },
   "outputs": [],
   "source": [
    "import warnings\n",
    "warnings.filterwarnings('ignore')"
   ]
  },
  {
   "cell_type": "code",
   "execution_count": 4,
   "metadata": {
    "collapsed": false
   },
   "outputs": [
    {
     "data": {
      "text/html": [
       "<div>\n",
       "<style scoped>\n",
       "    .dataframe tbody tr th:only-of-type {\n",
       "        vertical-align: middle;\n",
       "    }\n",
       "\n",
       "    .dataframe tbody tr th {\n",
       "        vertical-align: top;\n",
       "    }\n",
       "\n",
       "    .dataframe thead th {\n",
       "        text-align: right;\n",
       "    }\n",
       "</style>\n",
       "<table border=\"1\" class=\"dataframe\">\n",
       "  <thead>\n",
       "    <tr style=\"text-align: right;\">\n",
       "      <th></th>\n",
       "      <th>track_id</th>\n",
       "      <th>album_id</th>\n",
       "      <th>album_title</th>\n",
       "      <th>album_url</th>\n",
       "      <th>artist_id</th>\n",
       "      <th>artist_name</th>\n",
       "      <th>artist_url</th>\n",
       "      <th>artist_website</th>\n",
       "      <th>license_image_file</th>\n",
       "      <th>license_image_file_large</th>\n",
       "      <th>...</th>\n",
       "      <th>track_information</th>\n",
       "      <th>track_instrumental</th>\n",
       "      <th>track_interest</th>\n",
       "      <th>track_language_code</th>\n",
       "      <th>track_listens</th>\n",
       "      <th>track_lyricist</th>\n",
       "      <th>track_number</th>\n",
       "      <th>track_publisher</th>\n",
       "      <th>track_title</th>\n",
       "      <th>track_url</th>\n",
       "    </tr>\n",
       "  </thead>\n",
       "  <tbody>\n",
       "    <tr>\n",
       "      <th>0</th>\n",
       "      <td>2</td>\n",
       "      <td>1.0</td>\n",
       "      <td>AWOL - A Way Of Life</td>\n",
       "      <td>http://freemusicarchive.org/music/AWOL/AWOL_-_...</td>\n",
       "      <td>1</td>\n",
       "      <td>AWOL</td>\n",
       "      <td>http://freemusicarchive.org/music/AWOL/</td>\n",
       "      <td>http://www.AzillionRecords.blogspot.com</td>\n",
       "      <td>http://i.creativecommons.org/l/by-nc-sa/3.0/us...</td>\n",
       "      <td>http://fma-files.s3.amazonaws.com/resources/im...</td>\n",
       "      <td>...</td>\n",
       "      <td>NaN</td>\n",
       "      <td>0</td>\n",
       "      <td>4656</td>\n",
       "      <td>en</td>\n",
       "      <td>1293</td>\n",
       "      <td>NaN</td>\n",
       "      <td>3</td>\n",
       "      <td>NaN</td>\n",
       "      <td>Food</td>\n",
       "      <td>http://freemusicarchive.org/music/AWOL/AWOL_-_...</td>\n",
       "    </tr>\n",
       "    <tr>\n",
       "      <th>1</th>\n",
       "      <td>3</td>\n",
       "      <td>1.0</td>\n",
       "      <td>AWOL - A Way Of Life</td>\n",
       "      <td>http://freemusicarchive.org/music/AWOL/AWOL_-_...</td>\n",
       "      <td>1</td>\n",
       "      <td>AWOL</td>\n",
       "      <td>http://freemusicarchive.org/music/AWOL/</td>\n",
       "      <td>http://www.AzillionRecords.blogspot.com</td>\n",
       "      <td>http://i.creativecommons.org/l/by-nc-sa/3.0/us...</td>\n",
       "      <td>http://fma-files.s3.amazonaws.com/resources/im...</td>\n",
       "      <td>...</td>\n",
       "      <td>NaN</td>\n",
       "      <td>0</td>\n",
       "      <td>1470</td>\n",
       "      <td>en</td>\n",
       "      <td>514</td>\n",
       "      <td>NaN</td>\n",
       "      <td>4</td>\n",
       "      <td>NaN</td>\n",
       "      <td>Electric Ave</td>\n",
       "      <td>http://freemusicarchive.org/music/AWOL/AWOL_-_...</td>\n",
       "    </tr>\n",
       "    <tr>\n",
       "      <th>2</th>\n",
       "      <td>5</td>\n",
       "      <td>1.0</td>\n",
       "      <td>AWOL - A Way Of Life</td>\n",
       "      <td>http://freemusicarchive.org/music/AWOL/AWOL_-_...</td>\n",
       "      <td>1</td>\n",
       "      <td>AWOL</td>\n",
       "      <td>http://freemusicarchive.org/music/AWOL/</td>\n",
       "      <td>http://www.AzillionRecords.blogspot.com</td>\n",
       "      <td>http://i.creativecommons.org/l/by-nc-sa/3.0/us...</td>\n",
       "      <td>http://fma-files.s3.amazonaws.com/resources/im...</td>\n",
       "      <td>...</td>\n",
       "      <td>NaN</td>\n",
       "      <td>0</td>\n",
       "      <td>1933</td>\n",
       "      <td>en</td>\n",
       "      <td>1151</td>\n",
       "      <td>NaN</td>\n",
       "      <td>6</td>\n",
       "      <td>NaN</td>\n",
       "      <td>This World</td>\n",
       "      <td>http://freemusicarchive.org/music/AWOL/AWOL_-_...</td>\n",
       "    </tr>\n",
       "    <tr>\n",
       "      <th>3</th>\n",
       "      <td>10</td>\n",
       "      <td>6.0</td>\n",
       "      <td>Constant Hitmaker</td>\n",
       "      <td>http://freemusicarchive.org/music/Kurt_Vile/Co...</td>\n",
       "      <td>6</td>\n",
       "      <td>Kurt Vile</td>\n",
       "      <td>http://freemusicarchive.org/music/Kurt_Vile/</td>\n",
       "      <td>http://kurtvile.com</td>\n",
       "      <td>http://i.creativecommons.org/l/by-nc-nd/3.0/88...</td>\n",
       "      <td>http://fma-files.s3.amazonaws.com/resources/im...</td>\n",
       "      <td>...</td>\n",
       "      <td>NaN</td>\n",
       "      <td>0</td>\n",
       "      <td>54881</td>\n",
       "      <td>en</td>\n",
       "      <td>50135</td>\n",
       "      <td>NaN</td>\n",
       "      <td>1</td>\n",
       "      <td>NaN</td>\n",
       "      <td>Freeway</td>\n",
       "      <td>http://freemusicarchive.org/music/Kurt_Vile/Co...</td>\n",
       "    </tr>\n",
       "    <tr>\n",
       "      <th>4</th>\n",
       "      <td>20</td>\n",
       "      <td>4.0</td>\n",
       "      <td>Niris</td>\n",
       "      <td>http://freemusicarchive.org/music/Chris_and_Ni...</td>\n",
       "      <td>4</td>\n",
       "      <td>Nicky Cook</td>\n",
       "      <td>http://freemusicarchive.org/music/Chris_and_Ni...</td>\n",
       "      <td>NaN</td>\n",
       "      <td>http://i.creativecommons.org/l/by-nc-nd/3.0/88...</td>\n",
       "      <td>http://fma-files.s3.amazonaws.com/resources/im...</td>\n",
       "      <td>...</td>\n",
       "      <td>NaN</td>\n",
       "      <td>0</td>\n",
       "      <td>978</td>\n",
       "      <td>en</td>\n",
       "      <td>361</td>\n",
       "      <td>NaN</td>\n",
       "      <td>3</td>\n",
       "      <td>NaN</td>\n",
       "      <td>Spiritual Level</td>\n",
       "      <td>http://freemusicarchive.org/music/Chris_and_Ni...</td>\n",
       "    </tr>\n",
       "  </tbody>\n",
       "</table>\n",
       "<p>5 rows × 39 columns</p>\n",
       "</div>"
      ],
      "text/plain": [
       "   track_id  album_id           album_title  \\\n",
       "0         2       1.0  AWOL - A Way Of Life   \n",
       "1         3       1.0  AWOL - A Way Of Life   \n",
       "2         5       1.0  AWOL - A Way Of Life   \n",
       "3        10       6.0     Constant Hitmaker   \n",
       "4        20       4.0                 Niris   \n",
       "\n",
       "                                           album_url  artist_id artist_name  \\\n",
       "0  http://freemusicarchive.org/music/AWOL/AWOL_-_...          1        AWOL   \n",
       "1  http://freemusicarchive.org/music/AWOL/AWOL_-_...          1        AWOL   \n",
       "2  http://freemusicarchive.org/music/AWOL/AWOL_-_...          1        AWOL   \n",
       "3  http://freemusicarchive.org/music/Kurt_Vile/Co...          6   Kurt Vile   \n",
       "4  http://freemusicarchive.org/music/Chris_and_Ni...          4  Nicky Cook   \n",
       "\n",
       "                                          artist_url  \\\n",
       "0            http://freemusicarchive.org/music/AWOL/   \n",
       "1            http://freemusicarchive.org/music/AWOL/   \n",
       "2            http://freemusicarchive.org/music/AWOL/   \n",
       "3       http://freemusicarchive.org/music/Kurt_Vile/   \n",
       "4  http://freemusicarchive.org/music/Chris_and_Ni...   \n",
       "\n",
       "                            artist_website  \\\n",
       "0  http://www.AzillionRecords.blogspot.com   \n",
       "1  http://www.AzillionRecords.blogspot.com   \n",
       "2  http://www.AzillionRecords.blogspot.com   \n",
       "3                      http://kurtvile.com   \n",
       "4                                      NaN   \n",
       "\n",
       "                                  license_image_file  \\\n",
       "0  http://i.creativecommons.org/l/by-nc-sa/3.0/us...   \n",
       "1  http://i.creativecommons.org/l/by-nc-sa/3.0/us...   \n",
       "2  http://i.creativecommons.org/l/by-nc-sa/3.0/us...   \n",
       "3  http://i.creativecommons.org/l/by-nc-nd/3.0/88...   \n",
       "4  http://i.creativecommons.org/l/by-nc-nd/3.0/88...   \n",
       "\n",
       "                            license_image_file_large  ...  track_information  \\\n",
       "0  http://fma-files.s3.amazonaws.com/resources/im...  ...                NaN   \n",
       "1  http://fma-files.s3.amazonaws.com/resources/im...  ...                NaN   \n",
       "2  http://fma-files.s3.amazonaws.com/resources/im...  ...                NaN   \n",
       "3  http://fma-files.s3.amazonaws.com/resources/im...  ...                NaN   \n",
       "4  http://fma-files.s3.amazonaws.com/resources/im...  ...                NaN   \n",
       "\n",
       "  track_instrumental track_interest track_language_code  track_listens  \\\n",
       "0                  0           4656                  en           1293   \n",
       "1                  0           1470                  en            514   \n",
       "2                  0           1933                  en           1151   \n",
       "3                  0          54881                  en          50135   \n",
       "4                  0            978                  en            361   \n",
       "\n",
       "   track_lyricist track_number track_publisher      track_title  \\\n",
       "0             NaN            3             NaN             Food   \n",
       "1             NaN            4             NaN     Electric Ave   \n",
       "2             NaN            6             NaN       This World   \n",
       "3             NaN            1             NaN          Freeway   \n",
       "4             NaN            3             NaN  Spiritual Level   \n",
       "\n",
       "                                           track_url  \n",
       "0  http://freemusicarchive.org/music/AWOL/AWOL_-_...  \n",
       "1  http://freemusicarchive.org/music/AWOL/AWOL_-_...  \n",
       "2  http://freemusicarchive.org/music/AWOL/AWOL_-_...  \n",
       "3  http://freemusicarchive.org/music/Kurt_Vile/Co...  \n",
       "4  http://freemusicarchive.org/music/Chris_and_Ni...  \n",
       "\n",
       "[5 rows x 39 columns]"
      ]
     },
     "execution_count": 4,
     "metadata": {},
     "output_type": "execute_result"
    }
   ],
   "source": [
    "import numpy as np\n",
    "import pandas as pd\n",
    "\n",
    "# change filepath if running on another machine, this is local to mine\n",
    "tracks = pd.read_csv(\"/Users/mkarroqe/Desktop/github/dancing-screen/fma_metadata/raw_tracks.csv\")\n",
    "tracks.head()"
   ]
  },
  {
   "cell_type": "markdown",
   "metadata": {},
   "source": [
    "Let's confirm that we have access to an audio file now before we play with using it in a dataset:"
   ]
  },
  {
   "cell_type": "code",
   "execution_count": 5,
   "metadata": {
    "collapsed": false
   },
   "outputs": [
    {
     "name": "stdout",
     "output_type": "stream",
     "text": [
      "2 http://freemusicarchive.org/music/AWOL/AWOL_-_A_Way_Of_Life/Food\n"
     ]
    }
   ],
   "source": [
    "url = tracks['track_url'][0]\n",
    "trackid = tracks['track_id'][0]\n",
    "print(trackid, url)"
   ]
  },
  {
   "cell_type": "markdown",
   "metadata": {},
   "source": [
    "Small problem: it appears that in the dataframe, urls are saved as:\n",
    "\n",
    "    http://freemusicarchive.org/music/AWOL/AWOL_-_A_Way_Of_Life/Food\n",
    "    \n",
    "However, the audio files cannot be downloaded at this link, as it leads to the following landing page:\n",
    "\n",
    "> ![](images/fma-working.png)\n",
    "    \n",
    "Which requires an additional click to get to this downloadable `.mp3` file:\n",
    "\n",
    "    https://files.freemusicarchive.org/storage-freemusicarchive-org/music/WFMU/AWOL/AWOL_-_A_Way_Of_Life/AWOL_-_03_-_Food.mp3"
   ]
  },
  {
   "cell_type": "markdown",
   "metadata": {},
   "source": [
    "# Getting Correct Track URL\n",
    "\n",
    "Let's see if there's a way to derive the downloadable url from the one in the dataframe..\n",
    "http://freemusicarchive.org/music/AWOL/AWOL_-_A_Way_Of_Life/Food\n",
    "\n",
    "https://files.freemusicarchive.org/storage-freemusicarchive-org/music/WFMU/AWOL/AWOL_-_A_Way_Of_Life/AWOL_-_03_-_Food.mp3"
   ]
  },
  {
   "cell_type": "markdown",
   "metadata": {},
   "source": [
    "Fortunately, the curator info can be found on the webpage, and in turn, in its source code:\n",
    "\n",
    "| Webpage | Source Code |\n",
    "| - | - |\n",
    "| ![](images/fma-source-pic.png) | ![](images/fma-source-code.png) |\n",
    "\n",
    "So let's go ahead and scrape it:"
   ]
  },
  {
   "cell_type": "code",
   "execution_count": 39,
   "metadata": {
    "collapsed": false
   },
   "outputs": [
    {
     "data": {
      "text/plain": [
       "'WFMU'"
      ]
     },
     "execution_count": 39,
     "metadata": {},
     "output_type": "execute_result"
    }
   ],
   "source": [
    "from lxml import html\n",
    "import requests\n",
    "\n",
    "def get_curator(source_url):\n",
    "    # given the source url, pulls curator name from html source code\n",
    "    # https://docs.python-guide.org/scenarios/scrape/\n",
    "    # https://www.w3schools.com/xml/xpath_syntax.asp\n",
    "    curator = 'not found yet'\n",
    "    page = requests.get(source_url)\n",
    "    tree = html.fromstring(page.content)\n",
    "    \n",
    "    all_elems = tree.xpath('//*/text()')\n",
    "    for i in range(0, len(all_elems)):\n",
    "        if all_elems[i] == \"Curators\":\n",
    "            curator = all_elems[i + 3]\n",
    "            break\n",
    "\n",
    "    return curator\n",
    "\n",
    "source_url = tracks[\"track_url\"][0]\n",
    "get_curator(source_url)"
   ]
  },
  {
   "cell_type": "code",
   "execution_count": 56,
   "metadata": {
    "collapsed": false
   },
   "outputs": [],
   "source": [
    "def get_url(row):\n",
    "    BASE = \"https://files.freemusicarchive.org/storage-freemusicarchive-org/music/\"\n",
    "    source_url = tracks[\"track_url\"][row]    \n",
    "    curator = get_curator(source_url) + '/'\n",
    "    \n",
    "    artist_name = tracks[\"artist_name\"][row].replace(' ', '_')\n",
    "    album_title = tracks[\"album_title\"][row].replace(' ', '_')\n",
    "    \n",
    "    track_number = tracks[\"track_number\"][row]\n",
    "    if track_number != 0:\n",
    "        track_number = str(track_number).zfill(2)\n",
    "    \n",
    "    track_title = tracks[\"track_title\"][row].replace(' ', '_')\n",
    "    \n",
    "    pad = \"_-_\"\n",
    "    track_string = artist_name + pad + track_number + pad + track_title\n",
    "    \n",
    "    # BASE/curator/artist_name/album_title/(artist_name - track_number - track_title) + .mp3 ?\n",
    "    url = BASE + curator + artist_name + '/' + album_title + '/' + track_string + \".mp3\"\n",
    "    return url"
   ]
  },
  {
   "cell_type": "markdown",
   "metadata": {},
   "source": [
    "Let's test if my parsing was correct:"
   ]
  },
  {
   "cell_type": "code",
   "execution_count": 41,
   "metadata": {
    "collapsed": false
   },
   "outputs": [
    {
     "name": "stdout",
     "output_type": "stream",
     "text": [
      "https://files.freemusicarchive.org/storage-freemusicarchive-org/music/WFMU/AWOL/AWOL_-_A_Way_Of_Life/AWOL_-_03_-_Food.mp3 is TRUE\n"
     ]
    }
   ],
   "source": [
    "url = get_url(0)\n",
    "goal = \"https://files.freemusicarchive.org/storage-freemusicarchive-org/music/WFMU/AWOL/AWOL_-_A_Way_Of_Life/AWOL_-_03_-_Food.mp3\"\n",
    "\n",
    "if url == goal:\n",
    "    print(url, \"is TRUE\")\n",
    "else:\n",
    "    print(\"Output:\", url)\n",
    "    print(\"Expected:\", goal)"
   ]
  },
  {
   "cell_type": "markdown",
   "metadata": {},
   "source": [
    "# Robustness of `get_curator()`\n",
    "Huzzah! Now let's test its robustness with other URLs.."
   ]
  },
  {
   "cell_type": "code",
   "execution_count": 57,
   "metadata": {
    "collapsed": false
   },
   "outputs": [
    {
     "name": "stdout",
     "output_type": "stream",
     "text": [
      "4 https://files.freemusicarchive.org/storage-freemusicarchive-org/music/not found yet/Nicky_Cook/Niris/Nicky_Cook_-_03_-_Spiritual_Level.mp3\n",
      "CORRECT: http://freemusicarchive.org/music/Chris_and_Nicky_Andrews/Niris/Spiritual_Level \n",
      "\n",
      "5 https://files.freemusicarchive.org/storage-freemusicarchive-org/music/not found yet/Nicky_Cook/Niris/Nicky_Cook_-_04_-_Where_is_your_Love?.mp3\n",
      "CORRECT: http://freemusicarchive.org/music/Chris_and_Nicky_Andrews/Niris/Where_is_your_Love \n",
      "\n",
      "6 https://files.freemusicarchive.org/storage-freemusicarchive-org/music/not found yet/Nicky_Cook/Niris/Nicky_Cook_-_05_-_Too_Happy.mp3\n",
      "CORRECT: http://freemusicarchive.org/music/Chris_and_Nicky_Andrews/Niris/Too_Happy \n",
      "\n",
      "7 https://files.freemusicarchive.org/storage-freemusicarchive-org/music/not found yet/Nicky_Cook/Niris/Nicky_Cook_-_08_-_Yosemite.mp3\n",
      "CORRECT: http://freemusicarchive.org/music/Chris_and_Nicky_Andrews/Niris/Yosemite \n",
      "\n",
      "8 https://files.freemusicarchive.org/storage-freemusicarchive-org/music/not found yet/Nicky_Cook/Niris/Nicky_Cook_-_09_-_Light_of_Light.mp3\n",
      "CORRECT: http://freemusicarchive.org/music/Chris_and_Nicky_Andrews/Niris/Light_of_Light \n",
      "\n",
      "10 https://files.freemusicarchive.org/storage-freemusicarchive-org/music/WFMU/Abominog/mp3/Abominog_-_00_-_Father's_Day.mp3\n",
      "CORRECT: http://freemusicarchive.org/music/Abominog/mp3_1_1535/Fathers_Day \n",
      "\n",
      "11 https://files.freemusicarchive.org/storage-freemusicarchive-org/music/WFMU/Abominog/mp3/Abominog_-_00_-_Peel_Back_The_Mountain_Sky.mp3\n",
      "CORRECT: http://freemusicarchive.org/music/Abominog/mp3_1_1535/Peel_Back_The_Mountain_Sky \n",
      "\n",
      "14 https://files.freemusicarchive.org/storage-freemusicarchive-org/music/WFMU/Alec_K._Redfearn_&_the_Eyesores/Every_Man_For_Himself/Alec_K._Redfearn_&_the_Eyesores_-_02_-_CandyAss.mp3\n",
      "CORRECT: http://freemusicarchive.org/music/Alec_K_Redfearn_and_the_Eyesores/Every_Man_For_Himself/CandyAss \n",
      "\n",
      "15 https://files.freemusicarchive.org/storage-freemusicarchive-org/music/WFMU/Alec_K._Redfearn_&_the_Eyesores/The_Blind_Spot/Alec_K._Redfearn_&_the_Eyesores_-_02_-_Queen_Of_The_Wires.mp3\n",
      "CORRECT: http://freemusicarchive.org/music/Alec_K_Redfearn_and_the_Eyesores/The_Blind_Spot/Queen_Of_The_Wires \n",
      "\n",
      "16 https://files.freemusicarchive.org/storage-freemusicarchive-org/music/WFMU/Alec_K._Redfearn_&_the_Eyesores/Every_Man_For_Himself/Alec_K._Redfearn_&_the_Eyesores_-_04_-_Ohio.mp3\n",
      "CORRECT: http://freemusicarchive.org/music/Alec_K_Redfearn_and_the_Eyesores/Every_Man_For_Himself/Ohio \n",
      "\n",
      "17 https://files.freemusicarchive.org/storage-freemusicarchive-org/music/WFMU/Alec_K._Redfearn_&_the_Eyesores/The_Quiet_Room/Alec_K._Redfearn_&_the_Eyesores_-_05_-_Punjabi_Watery_Grave.mp3\n",
      "CORRECT: http://freemusicarchive.org/music/Alec_K_Redfearn_and_the_Eyesores/The_Quiet_Room/Punjabi_Watery_Grave \n",
      "\n",
      "20 https://files.freemusicarchive.org/storage-freemusicarchive-org/music/WFMU/Amoebic_Ensemble/Limbic_Rage/Amoebic_Ensemble_-_06_-_Gimme_a_Buck_or_I'll_Touch_You_/_Boilermaker.mp3\n",
      "CORRECT: http://freemusicarchive.org/music/Amoebic_Ensemble/Limbic_Rage/Gimme_a_Buck_or_Ill_Touch_You__Boilermaker \n",
      "\n",
      "23 https://files.freemusicarchive.org/storage-freemusicarchive-org/music/WFMU/Andy_Hayleck/Two_Gong/Wire_Pieces/Andy_Hayleck_-_02_-_Outside_the_window_bees_buzzed....mp3\n",
      "CORRECT: http://freemusicarchive.org/music/Andy_Hayleck/Two_GongWire_Pieces/Outside_the_window_bees_buzzed \n",
      "\n",
      "24 https://files.freemusicarchive.org/storage-freemusicarchive-org/music/WFMU/Andy_Hayleck/Two_Gong/Wire_Pieces/Andy_Hayleck_-_01_-_..._listening_to_the_sunshine_burn_the_grass.mp3\n",
      "CORRECT: http://freemusicarchive.org/music/Andy_Hayleck/Two_GongWire_Pieces/_listening_to_the_sunshine_burn_the_grass \n",
      "\n",
      "14 / 25 bad urls\n"
     ]
    }
   ],
   "source": [
    "urls = []\n",
    "for i in range(0, 25):\n",
    "    url = get_url(i)\n",
    "    urls.append(url)\n",
    "\n",
    "bad_urls = 0\n",
    "for i in range(0, len(urls)):\n",
    "    status = url_ok(urls[i])\n",
    "    if status is False:\n",
    "        print(i, urls[i])\n",
    "        print(\"CORRECT:\", tracks[\"track_url\"][i], '\\n')\n",
    "        bad_urls += 1\n",
    "        \n",
    "print(bad_urls, '/', len(urls), \"bad urls\")"
   ]
  },
  {
   "cell_type": "markdown",
   "metadata": {},
   "source": [
    "### Okay I've identified two problems here:\n",
    "1. some songs are still not live due to the Tribe of Noise/FMA merger\n",
    "2. some urls follow different path naming conventions (grr)\n",
    "\n",
    "After some more source code digging however, I think I may be able to pull the download urls just through the webpage... "
   ]
  },
  {
   "cell_type": "code",
   "execution_count": 131,
   "metadata": {
    "collapsed": false
   },
   "outputs": [],
   "source": [
    "def url_ok(url):\n",
    "    if url == 'nan':\n",
    "        return False\n",
    "    \n",
    "    r = requests.head(url)\n",
    "    valid_codes = [200, 301]\n",
    "    return (r.status_code in valid_codes)"
   ]
  },
  {
   "cell_type": "code",
   "execution_count": 113,
   "metadata": {
    "collapsed": false
   },
   "outputs": [
    {
     "name": "stdout",
     "output_type": "stream",
     "text": [
      "http://freemusicarchive.org/music/AWOL/AWOL_-_A_Way_Of_Life/Food\n",
      "https://files.freemusicarchive.org/storage-freemusicarchive-org/music/WFMU/AWOL/AWOL_-_A_Way_Of_Life/AWOL_-_03_-_Food.mp3\n"
     ]
    }
   ],
   "source": [
    "def get_dl_url(row):\n",
    "    # given the track row, pulls download url from html source code\n",
    "    source_url = tracks[\"track_url\"][row] \n",
    "    status = url_ok(source_url)\n",
    "    \n",
    "    if status is False:\n",
    "        return None\n",
    "    else:\n",
    "        page = requests.get(source_url)\n",
    "        tree = html.fromstring(page.content)\n",
    "\n",
    "        all_elems = tree.xpath('//span[@class=\"playicn\"]/a[1]/@href')\n",
    "        if len(all_elems) == 0:\n",
    "            return all_elems\n",
    "        return all_elems[0]\n",
    "\n",
    "source_url = tracks[\"track_url\"][0]\n",
    "print(source_url)\n",
    "print(get_dl_url(0))"
   ]
  },
  {
   "cell_type": "markdown",
   "metadata": {},
   "source": [
    "### yay! Now for that same check.."
   ]
  },
  {
   "cell_type": "code",
   "execution_count": 137,
   "metadata": {
    "collapsed": false
   },
   "outputs": [],
   "source": [
    "def gen_urls(start, end):\n",
    "# returns list of valid urls and track_ids of 404 pages\n",
    "    urls = []\n",
    "    bad = []\n",
    "    for i in range(start, end):\n",
    "        if i % 50 == 0:\n",
    "            print(str(i).zfill(3), \"/\", end)\n",
    "            \n",
    "        url = get_dl_url(i)\n",
    "        if len(url) != 0:\n",
    "            urls.append(url)\n",
    "        else:\n",
    "            bad.append(i)\n",
    "    return urls, bad"
   ]
  },
  {
   "cell_type": "code",
   "execution_count": 134,
   "metadata": {
    "collapsed": false
   },
   "outputs": [
    {
     "name": "stdout",
     "output_type": "stream",
     "text": [
      "0 / 25\n",
      "20 / 25 valid urls\n"
     ]
    }
   ],
   "source": [
    "urls, bad = gen_urls(0, 25)\n",
    "print(len(urls), \"/\", end, \"valid urls\")"
   ]
  },
  {
   "cell_type": "markdown",
   "metadata": {},
   "source": [
    "Let's examine the `bad` urls and confirm that the reason they were invalid was that the FMA site hadn't uploaded them yet:"
   ]
  },
  {
   "cell_type": "code",
   "execution_count": 128,
   "metadata": {
    "collapsed": false
   },
   "outputs": [
    {
     "name": "stdout",
     "output_type": "stream",
     "text": [
      "http://freemusicarchive.org/music/Chris_and_Nicky_Andrews/Niris/Spiritual_Level\n",
      "http://freemusicarchive.org/music/Chris_and_Nicky_Andrews/Niris/Where_is_your_Love\n",
      "http://freemusicarchive.org/music/Chris_and_Nicky_Andrews/Niris/Too_Happy\n",
      "http://freemusicarchive.org/music/Chris_and_Nicky_Andrews/Niris/Yosemite\n",
      "http://freemusicarchive.org/music/Chris_and_Nicky_Andrews/Niris/Light_of_Light\n"
     ]
    }
   ],
   "source": [
    "for url in bad:\n",
    "    print(tracks[\"track_url\"][url])"
   ]
  },
  {
   "cell_type": "markdown",
   "metadata": {},
   "source": [
    "It's great to see this message when you're expecting to :-)\n",
    "\n",
    "<img src=\"images/fma-bummer.png\" width=200px />"
   ]
  },
  {
   "cell_type": "markdown",
   "metadata": {},
   "source": [
    "# Creating Data Subset\n",
    "Now the next step is to create our full subset of downloadable mp3 files along with relevant attributes. My first gut feeling is to throw them into a dataframe, so let's start there (and then probably pickle them)"
   ]
  },
  {
   "cell_type": "code",
   "execution_count": 138,
   "metadata": {
    "collapsed": false
   },
   "outputs": [
    {
     "name": "stdout",
     "output_type": "stream",
     "text": [
      "000 / 500\n",
      "050 / 500\n",
      "100 / 500\n",
      "150 / 500\n",
      "200 / 500\n",
      "250 / 500\n",
      "300 / 500\n",
      "350 / 500\n"
     ]
    },
    {
     "ename": "MissingSchema",
     "evalue": "Invalid URL 'nan': No schema supplied. Perhaps you meant http://nan?",
     "output_type": "error",
     "traceback": [
      "\u001b[0;31m------------------------------------------------------\u001b[0m",
      "\u001b[0;31mMissingSchema\u001b[0m        Traceback (most recent call last)",
      "\u001b[0;32m<ipython-input-138-82c53835a3c5>\u001b[0m in \u001b[0;36m<module>\u001b[0;34m()\u001b[0m\n\u001b[1;32m      1\u001b[0m \u001b[0;31m# making a copy of tracks and will edit it\u001b[0m\u001b[0;34m\u001b[0m\u001b[0;34m\u001b[0m\u001b[0m\n\u001b[1;32m      2\u001b[0m \u001b[0mtrack_attr\u001b[0m \u001b[0;34m=\u001b[0m \u001b[0mtracks\u001b[0m\u001b[0;34m\u001b[0m\u001b[0m\n\u001b[0;32m----> 3\u001b[0;31m \u001b[0murls\u001b[0m\u001b[0;34m,\u001b[0m \u001b[0mbad\u001b[0m \u001b[0;34m=\u001b[0m \u001b[0mgen_urls\u001b[0m\u001b[0;34m(\u001b[0m\u001b[0;36m0\u001b[0m\u001b[0;34m,\u001b[0m \u001b[0;36m500\u001b[0m\u001b[0;34m)\u001b[0m\u001b[0;34m\u001b[0m\u001b[0m\n\u001b[0m\u001b[1;32m      4\u001b[0m \u001b[0mprint\u001b[0m\u001b[0;34m(\u001b[0m\u001b[0mlen\u001b[0m\u001b[0;34m(\u001b[0m\u001b[0murls\u001b[0m\u001b[0;34m)\u001b[0m\u001b[0;34m,\u001b[0m \u001b[0;34m\"/\"\u001b[0m\u001b[0;34m,\u001b[0m \u001b[0mend\u001b[0m\u001b[0;34m,\u001b[0m \u001b[0;34m\"valid urls\"\u001b[0m\u001b[0;34m)\u001b[0m\u001b[0;34m\u001b[0m\u001b[0m\n",
      "\u001b[0;32m<ipython-input-137-2696a2802a7a>\u001b[0m in \u001b[0;36mgen_urls\u001b[0;34m(start, end)\u001b[0m\n\u001b[1;32m      7\u001b[0m             \u001b[0mprint\u001b[0m\u001b[0;34m(\u001b[0m\u001b[0mstr\u001b[0m\u001b[0;34m(\u001b[0m\u001b[0mi\u001b[0m\u001b[0;34m)\u001b[0m\u001b[0;34m.\u001b[0m\u001b[0mzfill\u001b[0m\u001b[0;34m(\u001b[0m\u001b[0;36m3\u001b[0m\u001b[0;34m)\u001b[0m\u001b[0;34m,\u001b[0m \u001b[0;34m\"/\"\u001b[0m\u001b[0;34m,\u001b[0m \u001b[0mend\u001b[0m\u001b[0;34m)\u001b[0m\u001b[0;34m\u001b[0m\u001b[0m\n\u001b[1;32m      8\u001b[0m \u001b[0;34m\u001b[0m\u001b[0m\n\u001b[0;32m----> 9\u001b[0;31m         \u001b[0murl\u001b[0m \u001b[0;34m=\u001b[0m \u001b[0mget_dl_url\u001b[0m\u001b[0;34m(\u001b[0m\u001b[0mi\u001b[0m\u001b[0;34m)\u001b[0m\u001b[0;34m\u001b[0m\u001b[0m\n\u001b[0m\u001b[1;32m     10\u001b[0m         \u001b[0;32mif\u001b[0m \u001b[0mlen\u001b[0m\u001b[0;34m(\u001b[0m\u001b[0murl\u001b[0m\u001b[0;34m)\u001b[0m \u001b[0;34m!=\u001b[0m \u001b[0;36m0\u001b[0m\u001b[0;34m:\u001b[0m\u001b[0;34m\u001b[0m\u001b[0m\n\u001b[1;32m     11\u001b[0m             \u001b[0murls\u001b[0m\u001b[0;34m.\u001b[0m\u001b[0mappend\u001b[0m\u001b[0;34m(\u001b[0m\u001b[0murl\u001b[0m\u001b[0;34m)\u001b[0m\u001b[0;34m\u001b[0m\u001b[0m\n",
      "\u001b[0;32m<ipython-input-113-a322d8faccf2>\u001b[0m in \u001b[0;36mget_dl_url\u001b[0;34m(row)\u001b[0m\n\u001b[1;32m      2\u001b[0m     \u001b[0;31m# given the track row, pulls download url from html source code\u001b[0m\u001b[0;34m\u001b[0m\u001b[0;34m\u001b[0m\u001b[0m\n\u001b[1;32m      3\u001b[0m     \u001b[0msource_url\u001b[0m \u001b[0;34m=\u001b[0m \u001b[0mtracks\u001b[0m\u001b[0;34m[\u001b[0m\u001b[0;34m\"track_url\"\u001b[0m\u001b[0;34m]\u001b[0m\u001b[0;34m[\u001b[0m\u001b[0mrow\u001b[0m\u001b[0;34m]\u001b[0m\u001b[0;34m\u001b[0m\u001b[0m\n\u001b[0;32m----> 4\u001b[0;31m     \u001b[0mstatus\u001b[0m \u001b[0;34m=\u001b[0m \u001b[0murl_ok\u001b[0m\u001b[0;34m(\u001b[0m\u001b[0msource_url\u001b[0m\u001b[0;34m)\u001b[0m\u001b[0;34m\u001b[0m\u001b[0m\n\u001b[0m\u001b[1;32m      5\u001b[0m \u001b[0;34m\u001b[0m\u001b[0m\n\u001b[1;32m      6\u001b[0m     \u001b[0;32mif\u001b[0m \u001b[0mstatus\u001b[0m \u001b[0;32mis\u001b[0m \u001b[0;32mFalse\u001b[0m\u001b[0;34m:\u001b[0m\u001b[0;34m\u001b[0m\u001b[0m\n",
      "\u001b[0;32m<ipython-input-131-106a47941c08>\u001b[0m in \u001b[0;36murl_ok\u001b[0;34m(url)\u001b[0m\n\u001b[1;32m      3\u001b[0m         \u001b[0;32mreturn\u001b[0m \u001b[0;32mFalse\u001b[0m\u001b[0;34m\u001b[0m\u001b[0m\n\u001b[1;32m      4\u001b[0m \u001b[0;34m\u001b[0m\u001b[0m\n\u001b[0;32m----> 5\u001b[0;31m     \u001b[0mr\u001b[0m \u001b[0;34m=\u001b[0m \u001b[0mrequests\u001b[0m\u001b[0;34m.\u001b[0m\u001b[0mhead\u001b[0m\u001b[0;34m(\u001b[0m\u001b[0murl\u001b[0m\u001b[0;34m)\u001b[0m\u001b[0;34m\u001b[0m\u001b[0m\n\u001b[0m\u001b[1;32m      6\u001b[0m     \u001b[0mvalid_codes\u001b[0m \u001b[0;34m=\u001b[0m \u001b[0;34m[\u001b[0m\u001b[0;36m200\u001b[0m\u001b[0;34m,\u001b[0m \u001b[0;36m301\u001b[0m\u001b[0;34m]\u001b[0m\u001b[0;34m\u001b[0m\u001b[0m\n\u001b[1;32m      7\u001b[0m     \u001b[0;32mreturn\u001b[0m \u001b[0;34m(\u001b[0m\u001b[0mr\u001b[0m\u001b[0;34m.\u001b[0m\u001b[0mstatus_code\u001b[0m \u001b[0;32min\u001b[0m \u001b[0mvalid_codes\u001b[0m\u001b[0;34m)\u001b[0m\u001b[0;34m\u001b[0m\u001b[0m\n",
      "\u001b[0;32m/Users/mkarroqe/anaconda3/lib/python3.5/site-packages/requests/api.py\u001b[0m in \u001b[0;36mhead\u001b[0;34m(url, **kwargs)\u001b[0m\n\u001b[1;32m     95\u001b[0m \u001b[0;34m\u001b[0m\u001b[0m\n\u001b[1;32m     96\u001b[0m     \u001b[0mkwargs\u001b[0m\u001b[0;34m.\u001b[0m\u001b[0msetdefault\u001b[0m\u001b[0;34m(\u001b[0m\u001b[0;34m'allow_redirects'\u001b[0m\u001b[0;34m,\u001b[0m \u001b[0;32mFalse\u001b[0m\u001b[0;34m)\u001b[0m\u001b[0;34m\u001b[0m\u001b[0m\n\u001b[0;32m---> 97\u001b[0;31m     \u001b[0;32mreturn\u001b[0m \u001b[0mrequest\u001b[0m\u001b[0;34m(\u001b[0m\u001b[0;34m'head'\u001b[0m\u001b[0;34m,\u001b[0m \u001b[0murl\u001b[0m\u001b[0;34m,\u001b[0m \u001b[0;34m**\u001b[0m\u001b[0mkwargs\u001b[0m\u001b[0;34m)\u001b[0m\u001b[0;34m\u001b[0m\u001b[0m\n\u001b[0m\u001b[1;32m     98\u001b[0m \u001b[0;34m\u001b[0m\u001b[0m\n\u001b[1;32m     99\u001b[0m \u001b[0;34m\u001b[0m\u001b[0m\n",
      "\u001b[0;32m/Users/mkarroqe/anaconda3/lib/python3.5/site-packages/requests/api.py\u001b[0m in \u001b[0;36mrequest\u001b[0;34m(method, url, **kwargs)\u001b[0m\n\u001b[1;32m     55\u001b[0m     \u001b[0;31m# cases, and look like a memory leak in others.\u001b[0m\u001b[0;34m\u001b[0m\u001b[0;34m\u001b[0m\u001b[0m\n\u001b[1;32m     56\u001b[0m     \u001b[0;32mwith\u001b[0m \u001b[0msessions\u001b[0m\u001b[0;34m.\u001b[0m\u001b[0mSession\u001b[0m\u001b[0;34m(\u001b[0m\u001b[0;34m)\u001b[0m \u001b[0;32mas\u001b[0m \u001b[0msession\u001b[0m\u001b[0;34m:\u001b[0m\u001b[0;34m\u001b[0m\u001b[0m\n\u001b[0;32m---> 57\u001b[0;31m         \u001b[0;32mreturn\u001b[0m \u001b[0msession\u001b[0m\u001b[0;34m.\u001b[0m\u001b[0mrequest\u001b[0m\u001b[0;34m(\u001b[0m\u001b[0mmethod\u001b[0m\u001b[0;34m=\u001b[0m\u001b[0mmethod\u001b[0m\u001b[0;34m,\u001b[0m \u001b[0murl\u001b[0m\u001b[0;34m=\u001b[0m\u001b[0murl\u001b[0m\u001b[0;34m,\u001b[0m \u001b[0;34m**\u001b[0m\u001b[0mkwargs\u001b[0m\u001b[0;34m)\u001b[0m\u001b[0;34m\u001b[0m\u001b[0m\n\u001b[0m\u001b[1;32m     58\u001b[0m \u001b[0;34m\u001b[0m\u001b[0m\n\u001b[1;32m     59\u001b[0m \u001b[0;34m\u001b[0m\u001b[0m\n",
      "\u001b[0;32m/Users/mkarroqe/anaconda3/lib/python3.5/site-packages/requests/sessions.py\u001b[0m in \u001b[0;36mrequest\u001b[0;34m(self, method, url, params, data, headers, cookies, files, auth, timeout, allow_redirects, proxies, hooks, stream, verify, cert, json)\u001b[0m\n\u001b[1;32m    459\u001b[0m             \u001b[0mhooks\u001b[0m \u001b[0;34m=\u001b[0m \u001b[0mhooks\u001b[0m\u001b[0;34m,\u001b[0m\u001b[0;34m\u001b[0m\u001b[0m\n\u001b[1;32m    460\u001b[0m         )\n\u001b[0;32m--> 461\u001b[0;31m         \u001b[0mprep\u001b[0m \u001b[0;34m=\u001b[0m \u001b[0mself\u001b[0m\u001b[0;34m.\u001b[0m\u001b[0mprepare_request\u001b[0m\u001b[0;34m(\u001b[0m\u001b[0mreq\u001b[0m\u001b[0;34m)\u001b[0m\u001b[0;34m\u001b[0m\u001b[0m\n\u001b[0m\u001b[1;32m    462\u001b[0m \u001b[0;34m\u001b[0m\u001b[0m\n\u001b[1;32m    463\u001b[0m         \u001b[0mproxies\u001b[0m \u001b[0;34m=\u001b[0m \u001b[0mproxies\u001b[0m \u001b[0;32mor\u001b[0m \u001b[0;34m{\u001b[0m\u001b[0;34m}\u001b[0m\u001b[0;34m\u001b[0m\u001b[0m\n",
      "\u001b[0;32m/Users/mkarroqe/anaconda3/lib/python3.5/site-packages/requests/sessions.py\u001b[0m in \u001b[0;36mprepare_request\u001b[0;34m(self, request)\u001b[0m\n\u001b[1;32m    392\u001b[0m             \u001b[0mauth\u001b[0m\u001b[0;34m=\u001b[0m\u001b[0mmerge_setting\u001b[0m\u001b[0;34m(\u001b[0m\u001b[0mauth\u001b[0m\u001b[0;34m,\u001b[0m \u001b[0mself\u001b[0m\u001b[0;34m.\u001b[0m\u001b[0mauth\u001b[0m\u001b[0;34m)\u001b[0m\u001b[0;34m,\u001b[0m\u001b[0;34m\u001b[0m\u001b[0m\n\u001b[1;32m    393\u001b[0m             \u001b[0mcookies\u001b[0m\u001b[0;34m=\u001b[0m\u001b[0mmerged_cookies\u001b[0m\u001b[0;34m,\u001b[0m\u001b[0;34m\u001b[0m\u001b[0m\n\u001b[0;32m--> 394\u001b[0;31m             \u001b[0mhooks\u001b[0m\u001b[0;34m=\u001b[0m\u001b[0mmerge_hooks\u001b[0m\u001b[0;34m(\u001b[0m\u001b[0mrequest\u001b[0m\u001b[0;34m.\u001b[0m\u001b[0mhooks\u001b[0m\u001b[0;34m,\u001b[0m \u001b[0mself\u001b[0m\u001b[0;34m.\u001b[0m\u001b[0mhooks\u001b[0m\u001b[0;34m)\u001b[0m\u001b[0;34m,\u001b[0m\u001b[0;34m\u001b[0m\u001b[0m\n\u001b[0m\u001b[1;32m    395\u001b[0m         )\n\u001b[1;32m    396\u001b[0m         \u001b[0;32mreturn\u001b[0m \u001b[0mp\u001b[0m\u001b[0;34m\u001b[0m\u001b[0m\n",
      "\u001b[0;32m/Users/mkarroqe/anaconda3/lib/python3.5/site-packages/requests/models.py\u001b[0m in \u001b[0;36mprepare\u001b[0;34m(self, method, url, headers, files, data, params, auth, cookies, hooks, json)\u001b[0m\n\u001b[1;32m    293\u001b[0m \u001b[0;34m\u001b[0m\u001b[0m\n\u001b[1;32m    294\u001b[0m         \u001b[0mself\u001b[0m\u001b[0;34m.\u001b[0m\u001b[0mprepare_method\u001b[0m\u001b[0;34m(\u001b[0m\u001b[0mmethod\u001b[0m\u001b[0;34m)\u001b[0m\u001b[0;34m\u001b[0m\u001b[0m\n\u001b[0;32m--> 295\u001b[0;31m         \u001b[0mself\u001b[0m\u001b[0;34m.\u001b[0m\u001b[0mprepare_url\u001b[0m\u001b[0;34m(\u001b[0m\u001b[0murl\u001b[0m\u001b[0;34m,\u001b[0m \u001b[0mparams\u001b[0m\u001b[0;34m)\u001b[0m\u001b[0;34m\u001b[0m\u001b[0m\n\u001b[0m\u001b[1;32m    296\u001b[0m         \u001b[0mself\u001b[0m\u001b[0;34m.\u001b[0m\u001b[0mprepare_headers\u001b[0m\u001b[0;34m(\u001b[0m\u001b[0mheaders\u001b[0m\u001b[0;34m)\u001b[0m\u001b[0;34m\u001b[0m\u001b[0m\n\u001b[1;32m    297\u001b[0m         \u001b[0mself\u001b[0m\u001b[0;34m.\u001b[0m\u001b[0mprepare_cookies\u001b[0m\u001b[0;34m(\u001b[0m\u001b[0mcookies\u001b[0m\u001b[0;34m)\u001b[0m\u001b[0;34m\u001b[0m\u001b[0m\n",
      "\u001b[0;32m/Users/mkarroqe/anaconda3/lib/python3.5/site-packages/requests/models.py\u001b[0m in \u001b[0;36mprepare_url\u001b[0;34m(self, url, params)\u001b[0m\n\u001b[1;32m    353\u001b[0m             \u001b[0merror\u001b[0m \u001b[0;34m=\u001b[0m \u001b[0merror\u001b[0m\u001b[0;34m.\u001b[0m\u001b[0mformat\u001b[0m\u001b[0;34m(\u001b[0m\u001b[0mto_native_string\u001b[0m\u001b[0;34m(\u001b[0m\u001b[0murl\u001b[0m\u001b[0;34m,\u001b[0m \u001b[0;34m'utf8'\u001b[0m\u001b[0;34m)\u001b[0m\u001b[0;34m)\u001b[0m\u001b[0;34m\u001b[0m\u001b[0m\n\u001b[1;32m    354\u001b[0m \u001b[0;34m\u001b[0m\u001b[0m\n\u001b[0;32m--> 355\u001b[0;31m             \u001b[0;32mraise\u001b[0m \u001b[0mMissingSchema\u001b[0m\u001b[0;34m(\u001b[0m\u001b[0merror\u001b[0m\u001b[0;34m)\u001b[0m\u001b[0;34m\u001b[0m\u001b[0m\n\u001b[0m\u001b[1;32m    356\u001b[0m \u001b[0;34m\u001b[0m\u001b[0m\n\u001b[1;32m    357\u001b[0m         \u001b[0;32mif\u001b[0m \u001b[0;32mnot\u001b[0m \u001b[0mhost\u001b[0m\u001b[0;34m:\u001b[0m\u001b[0;34m\u001b[0m\u001b[0m\n",
      "\u001b[0;31mMissingSchema\u001b[0m: Invalid URL 'nan': No schema supplied. Perhaps you meant http://nan?"
     ]
    }
   ],
   "source": [
    "# making a copy of tracks and will edit it\n",
    "track_attr = tracks\n",
    "urls, bad = gen_urls(0, 500)\n",
    "print(len(urls), \"/\", end, \"valid urls\")"
   ]
  },
  {
   "cell_type": "code",
   "execution_count": null,
   "metadata": {
    "collapsed": false
   },
   "outputs": [],
   "source": [
    "# import urllib.request\n",
    "dest = \"/audio_files\"\n",
    "\n",
    "# opener=urllib.request.build_opener()\n",
    "# # SO hero: https://stackoverflow.com/a/36663971 for 403 Error\n",
    "# opener.addheaders=[('User-Agent','Mozilla/5.0 (Windows NT 6.1; WOW64) AppleWebKit/537.36 (KHTML, like Gecko) Chrome/36.0.1941.0 Safari/537.36')]\n",
    "# urllib.request.install_opener(opener)\n",
    "# urllib.request.urlretrieve(url, dest)"
   ]
  },
  {
   "cell_type": "markdown",
   "metadata": {},
   "source": [
    "Troubleshooting the following error:\n",
    "```PermissionError: [Errno 13] Permission denied: '/audio_files'```\n",
    "\n",
    "1. Change permissions `audio_files` directory:\n",
    "  - `sudo chmod g+wx audio_files`\n",
    "  - This did not automatically work. I will try restarting the notebook.\n",
    "  - Restarting did not solve the problem.\n",
    "  \n",
    "2. Let's try using the `requests` library instead:\n",
    "\n",
    "***Update: both now work after running `sudo jupyter notebook` !*** Sticking with `requests`\n"
   ]
  },
  {
   "cell_type": "code",
   "execution_count": null,
   "metadata": {
    "collapsed": false
   },
   "outputs": [],
   "source": [
    "import requests\n",
    "headers = {'User-Agent': 'Mozilla/5.0 (Macintosh; Intel Mac OS X 10_11_5) AppleWebKit/537.36 (KHTML, like Gecko) Cafari/537.36'}\n",
    "print(url)\n",
    "r = requests.get(url)\n",
    "# r.content"
   ]
  },
  {
   "cell_type": "code",
   "execution_count": null,
   "metadata": {
    "collapsed": false
   },
   "outputs": [],
   "source": [
    "# The below code will download the media at url and save it to dest\n",
    "open(dest, 'wb').write(r.content)"
   ]
  },
  {
   "cell_type": "markdown",
   "metadata": {},
   "source": [
    "Yay that worked! The file was saved into the notebooks directory as `dest.mp3`. Let's fix where we're downloading:"
   ]
  },
  {
   "cell_type": "code",
   "execution_count": null,
   "metadata": {
    "collapsed": false
   },
   "outputs": [],
   "source": [
    "import os\n",
    "from os import path\n",
    "\n",
    "dest = \"/audio_files2\"\n",
    "if not os.path.exists(dest):\n",
    "    os.makedirs(dest)\n",
    "open(dest, 'wb').write(r.content)"
   ]
  },
  {
   "cell_type": "code",
   "execution_count": null,
   "metadata": {
    "collapsed": true
   },
   "outputs": [],
   "source": [
    "# some useful code for faster parsing (https://www.codementor.io/aviaryan/downloading-files-from-urls-in-python-77q3bs0un)\n",
    "# without downloading the file every time\n",
    "def is_downloadable(url):\n",
    "    \"\"\"\n",
    "    Does the url contain a downloadable resource\n",
    "    \"\"\"\n",
    "    h = requests.head(url, allow_redirects=True)\n",
    "    header = h.headers\n",
    "    content_type = header.get('content-type')\n",
    "    if 'text' in content_type.lower():\n",
    "        return False\n",
    "    if 'html' in content_type.lower():\n",
    "        return False\n",
    "    return True"
   ]
  },
  {
   "cell_type": "markdown",
   "metadata": {},
   "source": [
    "### Audio File Resources:\n",
    "- To convert .mp3 to .wav. pydub (https://github.com/jiaaro/pydub)\n",
    "\n",
    "- To read .wav files to numpy array soundfile (https://pypi.python.org/pypi/SoundFile/0.8.1)\n",
    "\n",
    "- To play numpy arrays sounddevice (https://pypi.python.org/pypi/sounddevice)\n",
    "\n",
    "- Numpy has some goodies too (DFT, correlation, convolution etc.)"
   ]
  },
  {
   "cell_type": "code",
   "execution_count": null,
   "metadata": {
    "collapsed": true
   },
   "outputs": [],
   "source": []
  }
 ],
 "metadata": {
  "anaconda-cloud": {},
  "kernelspec": {
   "display_name": "Python [Root]",
   "language": "python",
   "name": "Python [Root]"
  },
  "language_info": {
   "codemirror_mode": {
    "name": "ipython",
    "version": 3
   },
   "file_extension": ".py",
   "mimetype": "text/x-python",
   "name": "python",
   "nbconvert_exporter": "python",
   "pygments_lexer": "ipython3",
   "version": "3.5.2"
  }
 },
 "nbformat": 4,
 "nbformat_minor": 0
}
