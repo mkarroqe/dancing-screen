{
 "cells": [
  {
   "cell_type": "markdown",
   "metadata": {},
   "source": [
    "# Making Sense of Data\n",
    "\n",
    "Dear Diary, <br/>\n",
    "It is Saturday, September 21. I am sitting in the Bean🥫.<br /><br/>\n",
    "The purpose of this notebook is to make sense of the data contained in the [UCI FMA Music Analysis Dataset](https://archive.ics.uci.edu/ml/datasets/FMA:+A+Dataset+For+Music+Analysis): **genres, and tracks**. <br/>For genres, we are interested in exploring the **colors** associated with each sub-genre and the **hierarchy structure** organizing the 164 genres. For tracks, we are interested in mapping tracks to genres to find the genres with the most songs to use for our initial model. We also want to explore associated track metadata, such as **year**.\n",
    "\n",
    "<hr />"
   ]
  },
  {
   "cell_type": "markdown",
   "metadata": {
    "collapsed": true
   },
   "source": [
    "# Genres\n",
    "The `raw_genres.csv` file was small enough that it was easier to analyze the data in Google Sheets. Sorry to betray the CS community by using layman's tools.\n",
    "\n",
    "The file had 164 rows with the following columns:\n",
    "\n",
    "   | genre_id | genre_color | genre_handle | genre_parent_id | genre_title |\n",
    "   | :-: | :-: | :-: | :-: | :-: |\n",
    "   | 46\t| #CC3300 | Latin_America| 2 | Latin America |\n",
    "   | ... | ... | ... | ... | ... |\n",
    "\n",
    "### Comments:\n",
    "- Parent genres did not have `parent_id`s.\n",
    "- The rows were in a haphazard order; they were not sorted numerically by `genre_id`/`genre_parent_id` nor alphabetically by `genre_handle`/`genre_title`.\n",
    "- I did not consider `genre_color`, but if it was sorted by color, that's not useful to me.\n",
    "\n",
    "### In Google Sheets, I did the following:\n",
    "1. Sorted rows by `parent_id` to get a sense of which genres had the most breadth (the most sub-genres).\n",
    "2. This moved all the parent rows to the bottom, and I pulled them out to the side.\n",
    "3. I created two new columns for the parent sub-table, `num sub_genres`.\n",
    "4. I counted all instances of each sub genre and added it to the parent table.\n",
    "\n",
    "<hr />\n",
    "\n",
    "### Results:\n",
    "\n",
    "|  Top Genres (sub-genres) | Graph |\n",
    "| :- | :-: |\n",
    "| <ol><li>International (15)</li><li>Rock (15)</li><li>Electronic (14)</li><li>Experimental (14)</li><li>Spoken (8) </li></ol> | <img src=\"images/sub_genre_pie_uci_fma.png\" /> |\n",
    "\n",
    "<!--\n",
    "| genre_id | genre_color | genre_handle | genre_parent_id | genre_title | num sub-genres |\n",
    "| :-: | :-: | :-: | :-: | :-: |\t:-: |\n",
    "| 2\t|#CC3300|\tInternational |\t|\tInternational\t|15|\n",
    "|3|\t#000099\t|Blues\t|\t|Blues\t|1|\n",
    "|4|\t#990099\t|Jazz\t|\t|Jazz\t|6|\n",
    "|5|\t#8A8A65\t|Classical|\t|\tClassical|\t7|\n",
    "|8|\t#665666\t|Old-Time__Historic\t|\t|Old-Time / Historic|\t0|\n",
    "|9|\t#663366\t|Country\t|\t|Country\t|4|\n",
    "|10| #009900|\tPop\t|\t|Pop\t|2|\n",
    "|12\t|#840000|\tRock\t| |\tRock|\t15|\n",
    "|14\t|#330033|\tSoul-RB\t|\t| Soul-RnB|\t2|\n",
    "|15\t|#FF6600|\tElectronic|\t|\tElectronic\t|14|\n",
    "|17\t|#5E6D3F|\tFolk\t|\t|Folk|\t5|\n",
    "|20\t|#006699|\tSpoken\t| |\tSpoken|\t8|\n",
    "|21\t|#CC0000|\tHip-Hop\t| \t|Hip-Hop|\t7|\n",
    "|38\t|#dddd00|\tExperimental|\t|\tExperimental|\t14|\n",
    "|1235|\t#000000|\tInstrumental|\t|\tInstrumental\t|3|\n",
    "-->    "
   ]
  },
  {
   "cell_type": "markdown",
   "metadata": {},
   "source": [
    "## Tracks\n",
    "The file containing track data is too big to assess in Google Sheets (wah). Let's do some pandas parsing activities.\n",
    "The goal here is to see if the top genres above (based on sub-genre) matches the quantity of tracks for each genre. I'll start by loading `raw_tracks.csv` into a pandas df:"
   ]
  },
  {
   "cell_type": "code",
   "execution_count": 40,
   "metadata": {
    "collapsed": false
   },
   "outputs": [],
   "source": [
    "import numpy as np\n",
    "import pandas as pd\n",
    "\n",
    "# change filepath if running on another machine, this is local to mine\n",
    "tracks = pd.read_csv(\"/Users/mkarroqe/Desktop/github/dancing-screen/fma_metadata/raw_tracks.csv\")"
   ]
  },
  {
   "cell_type": "markdown",
   "metadata": {},
   "source": [
    "Next, I want to create a dictionary that maps genres to number of tracks with those genres."
   ]
  },
  {
   "cell_type": "code",
   "execution_count": 45,
   "metadata": {
    "collapsed": false
   },
   "outputs": [
    {
     "name": "stdout",
     "output_type": "stream",
     "text": [
      "num headers: 39\n",
      "num cols in row 0: 39\n",
      "track_id                                                                    3\n",
      "album_id                                                                    1\n",
      "album_title                                              AWOL - A Way Of Life\n",
      "album_url                   http://freemusicarchive.org/music/AWOL/AWOL_-_...\n",
      "artist_id                                                                   1\n",
      "artist_name                                                              AWOL\n",
      "artist_url                            http://freemusicarchive.org/music/AWOL/\n",
      "artist_website                        http://www.AzillionRecords.blogspot.com\n",
      "license_image_file          http://i.creativecommons.org/l/by-nc-sa/3.0/us...\n",
      "license_image_file_large    http://fma-files.s3.amazonaws.com/resources/im...\n",
      "license_parent_id                                                           5\n",
      "license_title               Attribution-NonCommercial-ShareAlike 3.0 Inter...\n",
      "license_url                 http://creativecommons.org/licenses/by-nc-sa/3.0/\n",
      "tags                                                                       []\n",
      "track_bit_rate                                                         256000\n",
      "track_comments                                                              0\n",
      "track_composer                                                            NaN\n",
      "track_copyright_c                                                         NaN\n",
      "track_copyright_p                                                         NaN\n",
      "track_date_created                                     11/26/2008 01:48:14 AM\n",
      "track_date_recorded                                                11/26/2008\n",
      "track_disc_number                                                           1\n",
      "track_duration                                                          03:57\n",
      "track_explicit                                                   Radio-Unsafe\n",
      "track_explicit_notes                                                      NaN\n",
      "track_favorites                                                             1\n",
      "track_file                  music/WFMU/AWOL/AWOL_-_A_Way_Of_Life/AWOL_-_04...\n",
      "track_genres                [{'genre_id': '21', 'genre_title': 'Hip-Hop', ...\n",
      "track_image_file            https://freemusicarchive.org/file/images/album...\n",
      "track_information                                                         NaN\n",
      "track_instrumental                                                          0\n",
      "track_interest                                                           1470\n",
      "track_language_code                                                        en\n",
      "track_listens                                                             514\n",
      "track_lyricist                                                            NaN\n",
      "track_number                                                                4\n",
      "track_publisher                                                           NaN\n",
      "track_title                                                      Electric Ave\n",
      "track_url                   http://freemusicarchive.org/music/AWOL/AWOL_-_...\n",
      "Name: 1, dtype: object\n"
     ]
    }
   ],
   "source": [
    "headers = [\"track_id\",\"album_id\",\"album_title\",\"album_url\",\"artist_id\",\"artist_name\",\"artist_url\",\"artist_website\",\"license_image_file\",\"license_image_file_large\",\"license_parent_id\",\"license_title\",\"license_url\",\"tags\",\"track_bit_rate\",\"track_comments\",\"track_composer\",\"track_copyright_c\",\"track_copyright_p\",\"track_date_created\",\"track_date_recorded\",\"track_disc_number\",\"track_duration\",\"track_explicit\",\"track_explicit_notes\",\"track_favorites\",\"track_file\",\"track_genres\",\"track_image_file\",\"track_information\",\"track_instrumental\",\"track_interest\",\"track_language_code\",\"track_listens\",\"track_lyricist\",\"track_number\",\"track_publisher\",\"track_title\",\"track_url\"]\n",
    "print(\"num headers:\", len(headers))\n",
    "print(\"num cols in row 0:\", len(tracks.iloc[1]))\n",
    "\n",
    "print(tracks.iloc[1])\n",
    "\n",
    "# for genres in tracks['track_genres']:\n",
    "#     [{'genre_id': '17', 'genre_title': 'Folk', 'genre_url': 'http://freemusicarchive.org/genre/Folk/'}]\n",
    "    "
   ]
  },
  {
   "cell_type": "code",
   "execution_count": null,
   "metadata": {
    "collapsed": true
   },
   "outputs": [],
   "source": []
  }
 ],
 "metadata": {
  "kernelspec": {
   "display_name": "Python [Root]",
   "language": "python",
   "name": "Python [Root]"
  },
  "language_info": {
   "codemirror_mode": {
    "name": "ipython",
    "version": 3
   },
   "file_extension": ".py",
   "mimetype": "text/x-python",
   "name": "python",
   "nbconvert_exporter": "python",
   "pygments_lexer": "ipython3",
   "version": "3.5.2"
  }
 },
 "nbformat": 4,
 "nbformat_minor": 0
}
